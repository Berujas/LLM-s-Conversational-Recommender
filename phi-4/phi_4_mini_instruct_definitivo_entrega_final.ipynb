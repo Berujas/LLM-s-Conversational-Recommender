{
  "nbformat": 4,
  "nbformat_minor": 0,
  "metadata": {
    "colab": {
      "provenance": []
    },
    "kernelspec": {
      "name": "python3",
      "display_name": "Python 3"
    },
    "language_info": {
      "name": "python"
    }
  },
  "cells": [
    {
      "cell_type": "markdown",
      "source": [
        "## Solo si quieren correr el modelo phi-4"
      ],
      "metadata": {
        "id": "vqHi5cpGewti"
      }
    },
    {
      "cell_type": "code",
      "execution_count": null,
      "metadata": {
        "colab": {
          "base_uri": "https://localhost:8080/"
        },
        "id": "HrruCzVqfBiW",
        "outputId": "bf471b77-1d05-4e7e-b37a-7a5e65a15755"
      },
      "outputs": [
        {
          "output_type": "stream",
          "name": "stdout",
          "text": [
            "Requirement already satisfied: transformers in /usr/local/lib/python3.11/dist-packages (4.52.4)\n",
            "Requirement already satisfied: torch in /usr/local/lib/python3.11/dist-packages (2.6.0+cu124)\n",
            "Requirement already satisfied: filelock in /usr/local/lib/python3.11/dist-packages (from transformers) (3.18.0)\n",
            "Requirement already satisfied: huggingface-hub<1.0,>=0.30.0 in /usr/local/lib/python3.11/dist-packages (from transformers) (0.33.0)\n",
            "Requirement already satisfied: numpy>=1.17 in /usr/local/lib/python3.11/dist-packages (from transformers) (2.0.2)\n",
            "Requirement already satisfied: packaging>=20.0 in /usr/local/lib/python3.11/dist-packages (from transformers) (24.2)\n",
            "Requirement already satisfied: pyyaml>=5.1 in /usr/local/lib/python3.11/dist-packages (from transformers) (6.0.2)\n",
            "Requirement already satisfied: regex!=2019.12.17 in /usr/local/lib/python3.11/dist-packages (from transformers) (2024.11.6)\n",
            "Requirement already satisfied: requests in /usr/local/lib/python3.11/dist-packages (from transformers) (2.32.3)\n",
            "Requirement already satisfied: tokenizers<0.22,>=0.21 in /usr/local/lib/python3.11/dist-packages (from transformers) (0.21.2)\n",
            "Requirement already satisfied: safetensors>=0.4.3 in /usr/local/lib/python3.11/dist-packages (from transformers) (0.5.3)\n",
            "Requirement already satisfied: tqdm>=4.27 in /usr/local/lib/python3.11/dist-packages (from transformers) (4.67.1)\n",
            "Requirement already satisfied: typing-extensions>=4.10.0 in /usr/local/lib/python3.11/dist-packages (from torch) (4.14.0)\n",
            "Requirement already satisfied: networkx in /usr/local/lib/python3.11/dist-packages (from torch) (3.5)\n",
            "Requirement already satisfied: jinja2 in /usr/local/lib/python3.11/dist-packages (from torch) (3.1.6)\n",
            "Requirement already satisfied: fsspec in /usr/local/lib/python3.11/dist-packages (from torch) (2025.3.2)\n",
            "Collecting nvidia-cuda-nvrtc-cu12==12.4.127 (from torch)\n",
            "  Downloading nvidia_cuda_nvrtc_cu12-12.4.127-py3-none-manylinux2014_x86_64.whl.metadata (1.5 kB)\n",
            "Collecting nvidia-cuda-runtime-cu12==12.4.127 (from torch)\n",
            "  Downloading nvidia_cuda_runtime_cu12-12.4.127-py3-none-manylinux2014_x86_64.whl.metadata (1.5 kB)\n",
            "Collecting nvidia-cuda-cupti-cu12==12.4.127 (from torch)\n",
            "  Downloading nvidia_cuda_cupti_cu12-12.4.127-py3-none-manylinux2014_x86_64.whl.metadata (1.6 kB)\n",
            "Collecting nvidia-cudnn-cu12==9.1.0.70 (from torch)\n",
            "  Downloading nvidia_cudnn_cu12-9.1.0.70-py3-none-manylinux2014_x86_64.whl.metadata (1.6 kB)\n",
            "Collecting nvidia-cublas-cu12==12.4.5.8 (from torch)\n",
            "  Downloading nvidia_cublas_cu12-12.4.5.8-py3-none-manylinux2014_x86_64.whl.metadata (1.5 kB)\n",
            "Collecting nvidia-cufft-cu12==11.2.1.3 (from torch)\n",
            "  Downloading nvidia_cufft_cu12-11.2.1.3-py3-none-manylinux2014_x86_64.whl.metadata (1.5 kB)\n",
            "Collecting nvidia-curand-cu12==10.3.5.147 (from torch)\n",
            "  Downloading nvidia_curand_cu12-10.3.5.147-py3-none-manylinux2014_x86_64.whl.metadata (1.5 kB)\n",
            "Collecting nvidia-cusolver-cu12==11.6.1.9 (from torch)\n",
            "  Downloading nvidia_cusolver_cu12-11.6.1.9-py3-none-manylinux2014_x86_64.whl.metadata (1.6 kB)\n",
            "Collecting nvidia-cusparse-cu12==12.3.1.170 (from torch)\n",
            "  Downloading nvidia_cusparse_cu12-12.3.1.170-py3-none-manylinux2014_x86_64.whl.metadata (1.6 kB)\n",
            "Requirement already satisfied: nvidia-cusparselt-cu12==0.6.2 in /usr/local/lib/python3.11/dist-packages (from torch) (0.6.2)\n",
            "Requirement already satisfied: nvidia-nccl-cu12==2.21.5 in /usr/local/lib/python3.11/dist-packages (from torch) (2.21.5)\n",
            "Requirement already satisfied: nvidia-nvtx-cu12==12.4.127 in /usr/local/lib/python3.11/dist-packages (from torch) (12.4.127)\n",
            "Collecting nvidia-nvjitlink-cu12==12.4.127 (from torch)\n",
            "  Downloading nvidia_nvjitlink_cu12-12.4.127-py3-none-manylinux2014_x86_64.whl.metadata (1.5 kB)\n",
            "Requirement already satisfied: triton==3.2.0 in /usr/local/lib/python3.11/dist-packages (from torch) (3.2.0)\n",
            "Requirement already satisfied: sympy==1.13.1 in /usr/local/lib/python3.11/dist-packages (from torch) (1.13.1)\n",
            "Requirement already satisfied: mpmath<1.4,>=1.1.0 in /usr/local/lib/python3.11/dist-packages (from sympy==1.13.1->torch) (1.3.0)\n",
            "Requirement already satisfied: hf-xet<2.0.0,>=1.1.2 in /usr/local/lib/python3.11/dist-packages (from huggingface-hub<1.0,>=0.30.0->transformers) (1.1.5)\n",
            "Requirement already satisfied: MarkupSafe>=2.0 in /usr/local/lib/python3.11/dist-packages (from jinja2->torch) (3.0.2)\n",
            "Requirement already satisfied: charset-normalizer<4,>=2 in /usr/local/lib/python3.11/dist-packages (from requests->transformers) (3.4.2)\n",
            "Requirement already satisfied: idna<4,>=2.5 in /usr/local/lib/python3.11/dist-packages (from requests->transformers) (3.10)\n",
            "Requirement already satisfied: urllib3<3,>=1.21.1 in /usr/local/lib/python3.11/dist-packages (from requests->transformers) (2.4.0)\n",
            "Requirement already satisfied: certifi>=2017.4.17 in /usr/local/lib/python3.11/dist-packages (from requests->transformers) (2025.6.15)\n",
            "Downloading nvidia_cublas_cu12-12.4.5.8-py3-none-manylinux2014_x86_64.whl (363.4 MB)\n",
            "\u001b[2K   \u001b[90m━━━━━━━━━━━━━━━━━━━━━━━━━━━━━━━━━━━━━━━━\u001b[0m \u001b[32m363.4/363.4 MB\u001b[0m \u001b[31m4.1 MB/s\u001b[0m eta \u001b[36m0:00:00\u001b[0m\n",
            "\u001b[?25hDownloading nvidia_cuda_cupti_cu12-12.4.127-py3-none-manylinux2014_x86_64.whl (13.8 MB)\n",
            "\u001b[2K   \u001b[90m━━━━━━━━━━━━━━━━━━━━━━━━━━━━━━━━━━━━━━━━\u001b[0m \u001b[32m13.8/13.8 MB\u001b[0m \u001b[31m119.5 MB/s\u001b[0m eta \u001b[36m0:00:00\u001b[0m\n",
            "\u001b[?25hDownloading nvidia_cuda_nvrtc_cu12-12.4.127-py3-none-manylinux2014_x86_64.whl (24.6 MB)\n",
            "\u001b[2K   \u001b[90m━━━━━━━━━━━━━━━━━━━━━━━━━━━━━━━━━━━━━━━━\u001b[0m \u001b[32m24.6/24.6 MB\u001b[0m \u001b[31m93.9 MB/s\u001b[0m eta \u001b[36m0:00:00\u001b[0m\n",
            "\u001b[?25hDownloading nvidia_cuda_runtime_cu12-12.4.127-py3-none-manylinux2014_x86_64.whl (883 kB)\n",
            "\u001b[2K   \u001b[90m━━━━━━━━━━━━━━━━━━━━━━━━━━━━━━━━━━━━━━━━\u001b[0m \u001b[32m883.7/883.7 kB\u001b[0m \u001b[31m62.9 MB/s\u001b[0m eta \u001b[36m0:00:00\u001b[0m\n",
            "\u001b[?25hDownloading nvidia_cudnn_cu12-9.1.0.70-py3-none-manylinux2014_x86_64.whl (664.8 MB)\n",
            "\u001b[2K   \u001b[90m━━━━━━━━━━━━━━━━━━━━━━━━━━━━━━━━━━━━━━━━\u001b[0m \u001b[32m664.8/664.8 MB\u001b[0m \u001b[31m2.8 MB/s\u001b[0m eta \u001b[36m0:00:00\u001b[0m\n",
            "\u001b[?25hDownloading nvidia_cufft_cu12-11.2.1.3-py3-none-manylinux2014_x86_64.whl (211.5 MB)\n",
            "\u001b[2K   \u001b[90m━━━━━━━━━━━━━━━━━━━━━━━━━━━━━━━━━━━━━━━━\u001b[0m \u001b[32m211.5/211.5 MB\u001b[0m \u001b[31m5.9 MB/s\u001b[0m eta \u001b[36m0:00:00\u001b[0m\n",
            "\u001b[?25hDownloading nvidia_curand_cu12-10.3.5.147-py3-none-manylinux2014_x86_64.whl (56.3 MB)\n",
            "\u001b[2K   \u001b[90m━━━━━━━━━━━━━━━━━━━━━━━━━━━━━━━━━━━━━━━━\u001b[0m \u001b[32m56.3/56.3 MB\u001b[0m \u001b[31m17.7 MB/s\u001b[0m eta \u001b[36m0:00:00\u001b[0m\n",
            "\u001b[?25hDownloading nvidia_cusolver_cu12-11.6.1.9-py3-none-manylinux2014_x86_64.whl (127.9 MB)\n",
            "\u001b[2K   \u001b[90m━━━━━━━━━━━━━━━━━━━━━━━━━━━━━━━━━━━━━━━━\u001b[0m \u001b[32m127.9/127.9 MB\u001b[0m \u001b[31m8.2 MB/s\u001b[0m eta \u001b[36m0:00:00\u001b[0m\n",
            "\u001b[?25hDownloading nvidia_cusparse_cu12-12.3.1.170-py3-none-manylinux2014_x86_64.whl (207.5 MB)\n",
            "\u001b[2K   \u001b[90m━━━━━━━━━━━━━━━━━━━━━━━━━━━━━━━━━━━━━━━━\u001b[0m \u001b[32m207.5/207.5 MB\u001b[0m \u001b[31m6.2 MB/s\u001b[0m eta \u001b[36m0:00:00\u001b[0m\n",
            "\u001b[?25hDownloading nvidia_nvjitlink_cu12-12.4.127-py3-none-manylinux2014_x86_64.whl (21.1 MB)\n",
            "\u001b[2K   \u001b[90m━━━━━━━━━━━━━━━━━━━━━━━━━━━━━━━━━━━━━━━━\u001b[0m \u001b[32m21.1/21.1 MB\u001b[0m \u001b[31m55.2 MB/s\u001b[0m eta \u001b[36m0:00:00\u001b[0m\n",
            "\u001b[?25hInstalling collected packages: nvidia-nvjitlink-cu12, nvidia-curand-cu12, nvidia-cufft-cu12, nvidia-cuda-runtime-cu12, nvidia-cuda-nvrtc-cu12, nvidia-cuda-cupti-cu12, nvidia-cublas-cu12, nvidia-cusparse-cu12, nvidia-cudnn-cu12, nvidia-cusolver-cu12\n",
            "  Attempting uninstall: nvidia-nvjitlink-cu12\n",
            "    Found existing installation: nvidia-nvjitlink-cu12 12.5.82\n",
            "    Uninstalling nvidia-nvjitlink-cu12-12.5.82:\n",
            "      Successfully uninstalled nvidia-nvjitlink-cu12-12.5.82\n",
            "  Attempting uninstall: nvidia-curand-cu12\n",
            "    Found existing installation: nvidia-curand-cu12 10.3.6.82\n",
            "    Uninstalling nvidia-curand-cu12-10.3.6.82:\n",
            "      Successfully uninstalled nvidia-curand-cu12-10.3.6.82\n",
            "  Attempting uninstall: nvidia-cufft-cu12\n",
            "    Found existing installation: nvidia-cufft-cu12 11.2.3.61\n",
            "    Uninstalling nvidia-cufft-cu12-11.2.3.61:\n",
            "      Successfully uninstalled nvidia-cufft-cu12-11.2.3.61\n",
            "  Attempting uninstall: nvidia-cuda-runtime-cu12\n",
            "    Found existing installation: nvidia-cuda-runtime-cu12 12.5.82\n",
            "    Uninstalling nvidia-cuda-runtime-cu12-12.5.82:\n",
            "      Successfully uninstalled nvidia-cuda-runtime-cu12-12.5.82\n",
            "  Attempting uninstall: nvidia-cuda-nvrtc-cu12\n",
            "    Found existing installation: nvidia-cuda-nvrtc-cu12 12.5.82\n",
            "    Uninstalling nvidia-cuda-nvrtc-cu12-12.5.82:\n",
            "      Successfully uninstalled nvidia-cuda-nvrtc-cu12-12.5.82\n",
            "  Attempting uninstall: nvidia-cuda-cupti-cu12\n",
            "    Found existing installation: nvidia-cuda-cupti-cu12 12.5.82\n",
            "    Uninstalling nvidia-cuda-cupti-cu12-12.5.82:\n",
            "      Successfully uninstalled nvidia-cuda-cupti-cu12-12.5.82\n",
            "  Attempting uninstall: nvidia-cublas-cu12\n",
            "    Found existing installation: nvidia-cublas-cu12 12.5.3.2\n",
            "    Uninstalling nvidia-cublas-cu12-12.5.3.2:\n",
            "      Successfully uninstalled nvidia-cublas-cu12-12.5.3.2\n",
            "  Attempting uninstall: nvidia-cusparse-cu12\n",
            "    Found existing installation: nvidia-cusparse-cu12 12.5.1.3\n",
            "    Uninstalling nvidia-cusparse-cu12-12.5.1.3:\n",
            "      Successfully uninstalled nvidia-cusparse-cu12-12.5.1.3\n",
            "  Attempting uninstall: nvidia-cudnn-cu12\n",
            "    Found existing installation: nvidia-cudnn-cu12 9.3.0.75\n",
            "    Uninstalling nvidia-cudnn-cu12-9.3.0.75:\n",
            "      Successfully uninstalled nvidia-cudnn-cu12-9.3.0.75\n",
            "  Attempting uninstall: nvidia-cusolver-cu12\n",
            "    Found existing installation: nvidia-cusolver-cu12 11.6.3.83\n",
            "    Uninstalling nvidia-cusolver-cu12-11.6.3.83:\n",
            "      Successfully uninstalled nvidia-cusolver-cu12-11.6.3.83\n",
            "Successfully installed nvidia-cublas-cu12-12.4.5.8 nvidia-cuda-cupti-cu12-12.4.127 nvidia-cuda-nvrtc-cu12-12.4.127 nvidia-cuda-runtime-cu12-12.4.127 nvidia-cudnn-cu12-9.1.0.70 nvidia-cufft-cu12-11.2.1.3 nvidia-curand-cu12-10.3.5.147 nvidia-cusolver-cu12-11.6.1.9 nvidia-cusparse-cu12-12.3.1.170 nvidia-nvjitlink-cu12-12.4.127\n"
          ]
        }
      ],
      "source": [
        "!pip install transformers torch"
      ]
    },
    {
      "cell_type": "code",
      "source": [
        "from transformers import pipeline,AutoTokenizer, AutoModelForCausalLM"
      ],
      "metadata": {
        "id": "Mc3yZQG3lL7L"
      },
      "execution_count": null,
      "outputs": []
    },
    {
      "cell_type": "code",
      "source": [
        "import torch"
      ],
      "metadata": {
        "id": "y3cut8AH7JtM"
      },
      "execution_count": null,
      "outputs": []
    },
    {
      "cell_type": "code",
      "source": [
        "model_id = \"microsoft/Phi-4-mini-instruct\"\n",
        "tokenizer = AutoTokenizer.from_pretrained(model_id)\n",
        "# model = AutoModelForCausalLM.from_pretrained(model_id,device_map=\"balanced_low_0\",\n",
        "#     torch_dtype=\"auto\",\n",
        "#     trust_remote_code=True,)\n",
        "# pipe = pipeline(\n",
        "#     \"text-generation\",\n",
        "#     model=model,\n",
        "#     tokenizer=tokenizer,\n",
        "# )\n",
        "pipe = pipeline(\n",
        "    \"text-generation\",\n",
        "    model=model_id,\n",
        "    device_map=\"sequential\",  # o usa \"sequential\"\n",
        "    torch_dtype=\"auto\",\n",
        "    trust_remote_code=True,\n",
        ")\n",
        "generation_args = {\n",
        "    \"max_new_tokens\": 600,\n",
        "    \"return_full_text\": False,\n",
        "    \"temperature\": 0.0,\n",
        "    \"do_sample\": False,\n",
        "}"
      ],
      "metadata": {
        "colab": {
          "base_uri": "https://localhost:8080/",
          "height": 723,
          "referenced_widgets": [
            "acdb812ca9894dd9acd6d0d970bccdbf",
            "1bf0ede5c0be48f88d4583a9fbc01b33",
            "35a2d807f5af41788865e57d17276632",
            "7f8ee22eab8e40f3bf154f86c04016c5",
            "48209d3b962b43458b231a36c1caa57e",
            "6881900b5cce4164886225cba1b619d2",
            "c11b83c69fb944628bb484f884a2e7a9",
            "f290d9bb2c814c50bd4783750f98a342",
            "2c9aabc437884d50bd33890b57e607f5",
            "c4632cfc0d0042b6a9405682261c16f8",
            "cc71813e43a64c8682bc5e04001bcbf4",
            "1f17d856ef934994842ae3a025ccc044",
            "c7e30a2f105f416f88e999a2d9c5dacb",
            "c153e3f9080e48b4ad1edbfdb025c9ac",
            "e49f5bc05d4b49659457b974d4fe346f",
            "735c69132a98403fbeb7e641b87d734e",
            "870ce1888745404e9d6ea80ec753bc23",
            "772d5e3e2b4142a6aaeaec14303fdb36",
            "941896c197a643ec83b596ee68d63475",
            "043bde08cae94103b0e97bbe64fc09c7",
            "fe331b7488cc42058932c9ead67d774d",
            "1230d87b43774c75bf1330c560baf5b0",
            "d03c557d708c4396bb078a46cf039914",
            "8da312aedbb64bfaafc2693e93efecf0",
            "fafde150710a4c1f87ebdce4af434c1a",
            "f916a7ff4be94a49bdf4b7f73190563b",
            "fa1a4f2fe840417cad0436b318311f6a",
            "a458498914754c139e8403909f0772e8",
            "0d22ee18fb7f476c9520ffcfed02ba53",
            "87619f9f14784b629dcf689edc45dd3b",
            "870de41edf0645d58cf8aff22baa05f6",
            "0c795368fdb141c6adeaefd6ffc59dcb",
            "684ab88f15b54a9ca047f7f1c91f2c54",
            "2279f9deef2a4ae8b462688228b4665f",
            "84dc1dc49c6948f7b4b04e20570d74af",
            "4085a1df6bd044889d5389f8b8e23ab4",
            "33968cfbe69c4e00922b751f9e3fea21",
            "bbde86d84d8d4c9595448ae670b5b5e3",
            "8f00c42642c8428abb973e3e0e512223",
            "fcc373349a93495088b9ba65e1775777",
            "fe509c17298844959f2ef649369ccb33",
            "f9f1699831364937a5bec3de6c32f3d9",
            "798f80be76ee47fca9d1baf6d094d31a",
            "e6cd77205d3e4b6288200c9ce7aead22",
            "e6917b4b54eb41a1b748056a68001d5d",
            "f504221818d5444b99f83173228cef96",
            "b1f2a2eeb8a14a52817ad557a92cb2b8",
            "b9e450a0103b40d4b495d348f949836e",
            "dbe0764b9a1d425fb82dc9cc168ebc83",
            "f969f4612b5d4e1d9e0cfccb8d6a4a02",
            "617c3a7c6b3c4f2ba1d3f99592e6d58a",
            "77cc5b6c9b0b44a397334988ba3554d7",
            "363d44a61426459cbede25cdf377911a",
            "6b35677921f3457bb26e12aadf426cf6",
            "8a89d352e2d84f1ca31b4c1b7574f1d8",
            "68dc84d1ef4d4136b8ff16cbd3000d95",
            "d11134d16ba84145a79d8c09d7a673bd",
            "0c7bd4d6cc3045e796b189db02791cee",
            "46f0b3b6dab44671bb9013b692ffd712",
            "264bef848d6949beaafd209d1fd6c721",
            "84c7d740f2d747a5aaf3ca9f558b0089",
            "dec21db289cc4646aafdd8f8f91014fe",
            "9780454b83b14258bb0668f97667d14f",
            "24704a420d1c481a8b0b8599a2a1972c",
            "3e3148cb4a0f49c48d4ae98b635cf450",
            "1e5d1dde92d04935a15c136d15be01b6",
            "8a5faae01ef346e5be4bfa621c04b5c1",
            "23d2d792d0f0406a8262695456463086",
            "79e770c153ca4ba087d43386923a0446",
            "41611dc100ae4dd49b5547abe00cf194",
            "3ea3262c8f764bfdaf175b15b557ba20",
            "c05bf25d5c1b4eaa9129de640383f34e",
            "78eb6f21a3804685a764a54e415aaaaa",
            "bcf690f6cddf4ef09817751e57eada74",
            "d81784761018456d87fef7baf4b0472a",
            "acc4e0b655164ed981a8c7fbafd8c85e",
            "edad658f2b694271b942be0b48047cd4",
            "a0c5533786a2460ebc2981a1bdb67ec4",
            "ce6e7a86809343be807c81592732b5ba",
            "b024a0c291de4df29f03e78a4ac4bc8a",
            "8786ed1376294aa993474d063ffa4061",
            "64ceb5bde7034fa28dc087e38c62af60",
            "569a0ddab05545dfbfc4def53195b446",
            "a69d74161ecb4e3a9f0d14e4c549948f",
            "9644a7ab5d97455cb713c25a4461988b",
            "33ae2f224d4b4573a32aba1a1d5db1db",
            "d36f06fc46074b508538ebf08353b253",
            "5b22ca246cdd49c49e5d9e5b00930324",
            "245c895730e342818a8293e21bbce9c8",
            "0ed8bb48c24446a49b4c0a557dc8346c",
            "cb2cd59308ee4263a1a408707876feba",
            "25030b194d8a4c06a1faadb1543f53aa",
            "2045192c088a40a0a1ea1d5074302f45",
            "1cfa45d6ec4b487aae3efb37f93c591e",
            "ed447b133f03475b8b61f1315b92c96b",
            "1b18a48009ca4ba4a4f0ee7c29c3cfc9",
            "c78e9692acbc4c3381743f92d5873549",
            "4928edd1cec947b481e1ef0034f7d880",
            "9566c0236ed74a2697f2a5a85a83f57e",
            "882c8a37093146eeb227d53d1af0448f",
            "e637d7a709c24b9f983fcce4c8d8961f",
            "09cf85822889447d98522a51a9d2da04",
            "90d8373bf2a44c5eb4345fca27f854c8",
            "3e6d8546c8fd4ba6a2f3ee7be07a955c",
            "abe7ce5fdd0146abb588719e55d7aa6e",
            "76fdbdea7d334fadba19df60089b4ad2",
            "6b27f9d997e941a394c62bb33fd60221",
            "29f887bcf9314089bc43315c226a85e5",
            "017b1049516a49de8c5224235c17587e",
            "fd70dc3502ef4592b8243048ae904369",
            "a9abe939a96c448796d33813561792d7",
            "9c5d4277fffa43dd98540e1d6f98bf97",
            "2dff0d47c03549ce9aa670558107cd22",
            "681fad52168442e59955c91bcab8c6bd",
            "ca0a3d51761a43978d340d57e73add4b",
            "fca4026a579646bfbf1e6d0b3412e686",
            "c30df3f355374e8895ec615656dad7aa",
            "6e13c210140f4f89b1f973b26fb27ef4",
            "57235859e15c4222896b855d91e75928",
            "df08083c681644e186a7cb05663da87c",
            "ee0300f238ec44e0b8f63ee448b297be",
            "0bb1a8d9dc684a21b8e9e8e1c5d387e9",
            "07a772d2a3e34d3c9e42f8a653faed47",
            "99758a3cff324754ad31083ade522f68",
            "5e82a8f4d3b546bb83aa7008314f7daa",
            "09a0735b9d764d55b4c8c22e6c5cdd63",
            "997fc648f6b54f53bc9a515fb5a51744",
            "f50f1ba41675434a8eae927b8eb3c20b",
            "823a31dca64d4aa0a3f7a760d1eef791",
            "29f8a9dc4ce44014be7fb9b9671a4745",
            "ab60a5d4a2cb4c3aa1026aadf59edcd8",
            "83abbbb18576499aa4998d21bf707f17",
            "6415375f278d488e902c6889d0d0f53b",
            "094a670a99a34db5a90fa4b3b3675717",
            "61334f4f3aca4313965ea3cfecf22916",
            "04f70d557f1f4e0ba1ee3e1109a56d60",
            "971dab0aec43471ab56070745c416824",
            "4fcaafd6dc0541be91735584f6576ff4",
            "2cb11f6982bf4679aa2f3175d4a1bddb",
            "30a0cfdea77f4ca08202c9dd9f0715b2",
            "f1f9d4ceb3d146a49a5cfce97d822ba4",
            "f4ce8c85d6e948b7885ce406ef9364f6",
            "b5b48ee0949741a5b50b21789d8d8770",
            "aee48f8a99b64c70ad6643767a900ccb",
            "6517fef385ab4ba9aebb9741c5e52e64",
            "4feec9bf314844fe817c701a9f5385b4",
            "888263099ea14a3290e7691417c340f8",
            "0c439883b2e74053a8b47e4c6ab1adcb",
            "ee16c92074bc4c03b0a917fa26037a51",
            "87b81767ab124be3beb6d743898f8fd2",
            "9dfecda76f2e469d8da8ad9ee6121867",
            "2d5a4c8201b5409082ad6c40f03bec20",
            "bf3eb1e216b04c45b9777514a51a18f6",
            "1ae2fbc73a4a444fa1289469bf98765a",
            "d5e10022bf84443bb765fc11499ad125",
            "dfacb14c73c549c78b8520acb42d6db0",
            "4c9964cdc4474e59a67d0fa1e1aa70f3",
            "08caeb6867cb4aa8a66506a67820b329",
            "4197ccdde91f428abfd79983c15b698d",
            "3877ef8840c14aa2b6a9608496d59494",
            "c3ef365b9af748a49208682b8df17144",
            "58b4013571364d0b95d671cd83092613",
            "89aa20d9920a4318b4af2838530b9cd4",
            "0e250d82615d4895b25cb4f93b1be4d6",
            "762b6e7a11eb4fcfb5cf28dfb367653a"
          ]
        },
        "id": "-B_7T0uV7C7L",
        "outputId": "387d18c5-0429-4649-81eb-15e983715b8a"
      },
      "execution_count": null,
      "outputs": [
        {
          "output_type": "stream",
          "name": "stderr",
          "text": [
            "/usr/local/lib/python3.11/dist-packages/huggingface_hub/utils/_auth.py:94: UserWarning: \n",
            "The secret `HF_TOKEN` does not exist in your Colab secrets.\n",
            "To authenticate with the Hugging Face Hub, create a token in your settings tab (https://huggingface.co/settings/tokens), set it as secret in your Google Colab and restart your session.\n",
            "You will be able to reuse this secret in all of your notebooks.\n",
            "Please note that authentication is recommended but still optional to access public models or datasets.\n",
            "  warnings.warn(\n"
          ]
        },
        {
          "output_type": "display_data",
          "data": {
            "text/plain": [
              "tokenizer_config.json: 0.00B [00:00, ?B/s]"
            ],
            "application/vnd.jupyter.widget-view+json": {
              "version_major": 2,
              "version_minor": 0,
              "model_id": "acdb812ca9894dd9acd6d0d970bccdbf"
            }
          },
          "metadata": {}
        },
        {
          "output_type": "display_data",
          "data": {
            "text/plain": [
              "vocab.json: 0.00B [00:00, ?B/s]"
            ],
            "application/vnd.jupyter.widget-view+json": {
              "version_major": 2,
              "version_minor": 0,
              "model_id": "1f17d856ef934994842ae3a025ccc044"
            }
          },
          "metadata": {}
        },
        {
          "output_type": "display_data",
          "data": {
            "text/plain": [
              "merges.txt: 0.00B [00:00, ?B/s]"
            ],
            "application/vnd.jupyter.widget-view+json": {
              "version_major": 2,
              "version_minor": 0,
              "model_id": "d03c557d708c4396bb078a46cf039914"
            }
          },
          "metadata": {}
        },
        {
          "output_type": "display_data",
          "data": {
            "text/plain": [
              "tokenizer.json:   0%|          | 0.00/15.5M [00:00<?, ?B/s]"
            ],
            "application/vnd.jupyter.widget-view+json": {
              "version_major": 2,
              "version_minor": 0,
              "model_id": "2279f9deef2a4ae8b462688228b4665f"
            }
          },
          "metadata": {}
        },
        {
          "output_type": "display_data",
          "data": {
            "text/plain": [
              "added_tokens.json:   0%|          | 0.00/249 [00:00<?, ?B/s]"
            ],
            "application/vnd.jupyter.widget-view+json": {
              "version_major": 2,
              "version_minor": 0,
              "model_id": "e6917b4b54eb41a1b748056a68001d5d"
            }
          },
          "metadata": {}
        },
        {
          "output_type": "display_data",
          "data": {
            "text/plain": [
              "special_tokens_map.json:   0%|          | 0.00/587 [00:00<?, ?B/s]"
            ],
            "application/vnd.jupyter.widget-view+json": {
              "version_major": 2,
              "version_minor": 0,
              "model_id": "68dc84d1ef4d4136b8ff16cbd3000d95"
            }
          },
          "metadata": {}
        },
        {
          "output_type": "display_data",
          "data": {
            "text/plain": [
              "config.json: 0.00B [00:00, ?B/s]"
            ],
            "application/vnd.jupyter.widget-view+json": {
              "version_major": 2,
              "version_minor": 0,
              "model_id": "8a5faae01ef346e5be4bfa621c04b5c1"
            }
          },
          "metadata": {}
        },
        {
          "output_type": "display_data",
          "data": {
            "text/plain": [
              "configuration_phi3.py: 0.00B [00:00, ?B/s]"
            ],
            "application/vnd.jupyter.widget-view+json": {
              "version_major": 2,
              "version_minor": 0,
              "model_id": "a0c5533786a2460ebc2981a1bdb67ec4"
            }
          },
          "metadata": {}
        },
        {
          "output_type": "stream",
          "name": "stderr",
          "text": [
            "A new version of the following files was downloaded from https://huggingface.co/microsoft/Phi-4-mini-instruct:\n",
            "- configuration_phi3.py\n",
            ". Make sure to double-check they do not contain any added malicious code. To avoid downloading new versions of the code file, you can pin a revision.\n"
          ]
        },
        {
          "output_type": "display_data",
          "data": {
            "text/plain": [
              "modeling_phi3.py: 0.00B [00:00, ?B/s]"
            ],
            "application/vnd.jupyter.widget-view+json": {
              "version_major": 2,
              "version_minor": 0,
              "model_id": "245c895730e342818a8293e21bbce9c8"
            }
          },
          "metadata": {}
        },
        {
          "output_type": "stream",
          "name": "stderr",
          "text": [
            "A new version of the following files was downloaded from https://huggingface.co/microsoft/Phi-4-mini-instruct:\n",
            "- modeling_phi3.py\n",
            ". Make sure to double-check they do not contain any added malicious code. To avoid downloading new versions of the code file, you can pin a revision.\n"
          ]
        },
        {
          "output_type": "display_data",
          "data": {
            "text/plain": [
              "model.safetensors.index.json: 0.00B [00:00, ?B/s]"
            ],
            "application/vnd.jupyter.widget-view+json": {
              "version_major": 2,
              "version_minor": 0,
              "model_id": "882c8a37093146eeb227d53d1af0448f"
            }
          },
          "metadata": {}
        },
        {
          "output_type": "display_data",
          "data": {
            "text/plain": [
              "Fetching 2 files:   0%|          | 0/2 [00:00<?, ?it/s]"
            ],
            "application/vnd.jupyter.widget-view+json": {
              "version_major": 2,
              "version_minor": 0,
              "model_id": "a9abe939a96c448796d33813561792d7"
            }
          },
          "metadata": {}
        },
        {
          "output_type": "display_data",
          "data": {
            "text/plain": [
              "model-00001-of-00002.safetensors:   0%|          | 0.00/4.90G [00:00<?, ?B/s]"
            ],
            "application/vnd.jupyter.widget-view+json": {
              "version_major": 2,
              "version_minor": 0,
              "model_id": "0bb1a8d9dc684a21b8e9e8e1c5d387e9"
            }
          },
          "metadata": {}
        },
        {
          "output_type": "display_data",
          "data": {
            "text/plain": [
              "model-00002-of-00002.safetensors:   0%|          | 0.00/2.77G [00:00<?, ?B/s]"
            ],
            "application/vnd.jupyter.widget-view+json": {
              "version_major": 2,
              "version_minor": 0,
              "model_id": "6415375f278d488e902c6889d0d0f53b"
            }
          },
          "metadata": {}
        },
        {
          "output_type": "display_data",
          "data": {
            "text/plain": [
              "Loading checkpoint shards:   0%|          | 0/2 [00:00<?, ?it/s]"
            ],
            "application/vnd.jupyter.widget-view+json": {
              "version_major": 2,
              "version_minor": 0,
              "model_id": "aee48f8a99b64c70ad6643767a900ccb"
            }
          },
          "metadata": {}
        },
        {
          "output_type": "display_data",
          "data": {
            "text/plain": [
              "generation_config.json:   0%|          | 0.00/168 [00:00<?, ?B/s]"
            ],
            "application/vnd.jupyter.widget-view+json": {
              "version_major": 2,
              "version_minor": 0,
              "model_id": "d5e10022bf84443bb765fc11499ad125"
            }
          },
          "metadata": {}
        },
        {
          "output_type": "stream",
          "name": "stderr",
          "text": [
            "Device set to use cuda:0\n"
          ]
        }
      ]
    },
    {
      "cell_type": "markdown",
      "source": [
        "## Esta linea es para guardar los resultados en el drive"
      ],
      "metadata": {
        "id": "SZ6XI3NYe4YD"
      }
    },
    {
      "cell_type": "code",
      "source": [
        "from google.colab import drive\n",
        "drive.mount('/content/drive')"
      ],
      "metadata": {
        "colab": {
          "base_uri": "https://localhost:8080/"
        },
        "id": "U2NoSI5kkwkT",
        "outputId": "57ee22bb-5021-49f6-ff1b-9b9db653d8fc"
      },
      "execution_count": null,
      "outputs": [
        {
          "output_type": "stream",
          "name": "stdout",
          "text": [
            "Mounted at /content/drive\n"
          ]
        }
      ]
    },
    {
      "cell_type": "markdown",
      "source": [
        "## Esta linea es para obtener el dataset conversacional"
      ],
      "metadata": {
        "id": "of5HR_fv-ZbX"
      }
    },
    {
      "cell_type": "code",
      "source": [
        "!curl -L -o \"Movies.zip\" \"https://drive.google.com/uc?export=download&id=1XdtoxTeBOemkLO3hiAVRTxxUoMKr_h1S\""
      ],
      "metadata": {
        "colab": {
          "base_uri": "https://localhost:8080/"
        },
        "id": "eNPHWHtQfIh5",
        "outputId": "5ee66bd0-d896-4b26-9a0e-d4c8de9c2c3d"
      },
      "execution_count": 1,
      "outputs": [
        {
          "output_type": "stream",
          "name": "stdout",
          "text": [
            "  % Total    % Received % Xferd  Average Speed   Time    Time     Time  Current\n",
            "                                 Dload  Upload   Total   Spent    Left  Speed\n",
            "  0     0    0     0    0     0      0      0 --:--:-- --:--:-- --:--:--     0\n",
            "100 5572k  100 5572k    0     0   372k      0  0:00:14  0:00:14 --:--:-- 1589k\n"
          ]
        }
      ]
    },
    {
      "cell_type": "markdown",
      "source": [
        "## Esta linea es para obtener los generos de las peliculas"
      ],
      "metadata": {
        "id": "Vb-h6D4G-dFE"
      }
    },
    {
      "cell_type": "code",
      "source": [
        "!curl -L -o \"movies_genres.zip\" \"https://drive.google.com/uc?export=download&id=1Ek6tXMIQ8dYRR09zl-yme3UocarwhTMu\""
      ],
      "metadata": {
        "colab": {
          "base_uri": "https://localhost:8080/"
        },
        "id": "Ud1T729FZaJe",
        "outputId": "606df5de-f88e-4076-d504-bf014b29c031"
      },
      "execution_count": 2,
      "outputs": [
        {
          "output_type": "stream",
          "name": "stdout",
          "text": [
            "  % Total    % Received % Xferd  Average Speed   Time    Time     Time  Current\n",
            "                                 Dload  Upload   Total   Spent    Left  Speed\n",
            "  0     0    0     0    0     0      0      0 --:--:-- --:--:-- --:--:--     0\n",
            "100 1458k  100 1458k    0     0   519k      0  0:00:02  0:00:02 --:--:--  992k\n"
          ]
        }
      ]
    },
    {
      "cell_type": "markdown",
      "source": [
        "## De aca se puede obtener las recomendaciones hechas por el modelo a los primeros 100 usuarios"
      ],
      "metadata": {
        "id": "KidnCKS3fAbg"
      }
    },
    {
      "cell_type": "code",
      "source": [
        "!curl -L -o \"llm_recommend_phi-4.json\" \"https://drive.google.com/uc?export=download&id=1UzoF9m4TPt34gu92R1VK0X8-KwH4MZQe\""
      ],
      "metadata": {
        "colab": {
          "base_uri": "https://localhost:8080/"
        },
        "id": "UwZd6hGdIrSe",
        "outputId": "a1577a7a-04a3-45b9-cc04-4909eb1658c5"
      },
      "execution_count": 3,
      "outputs": [
        {
          "output_type": "stream",
          "name": "stdout",
          "text": [
            "  % Total    % Received % Xferd  Average Speed   Time    Time     Time  Current\n",
            "                                 Dload  Upload   Total   Spent    Left  Speed\n",
            "  0     0    0     0    0     0      0      0 --:--:-- --:--:-- --:--:--     0\n",
            "100  196k  100  196k    0     0   134k      0  0:00:01  0:00:01 --:--:-- 1908k\n"
          ]
        }
      ]
    },
    {
      "cell_type": "code",
      "source": [
        "!unzip movies_genres.zip"
      ],
      "metadata": {
        "colab": {
          "base_uri": "https://localhost:8080/"
        },
        "id": "EDjACRkiZclH",
        "outputId": "c4b7008b-148b-46cb-85ea-059e52aedc85"
      },
      "execution_count": 4,
      "outputs": [
        {
          "output_type": "stream",
          "name": "stdout",
          "text": [
            "Archive:  movies_genres.zip\n",
            "  inflating: movies_genres.csv       \n"
          ]
        }
      ]
    },
    {
      "cell_type": "code",
      "source": [
        "!unzip Movies.zip"
      ],
      "metadata": {
        "colab": {
          "base_uri": "https://localhost:8080/"
        },
        "id": "iQkpevAjfKzG",
        "outputId": "5d9e8495-1614-4cf7-a599-05afe85b75d7"
      },
      "execution_count": 5,
      "outputs": [
        {
          "output_type": "stream",
          "name": "stdout",
          "text": [
            "Archive:  Movies.zip\n",
            "  inflating: Movie/.DS_Store         \n",
            "  inflating: Movie/Conversation.txt  \n",
            "  inflating: Movie/final_data.jsonl  \n",
            "  inflating: Movie/item_map.json     \n",
            "  inflating: Movie/user_ids.json     \n"
          ]
        }
      ]
    },
    {
      "cell_type": "code",
      "source": [
        "import json\n",
        "import csv\n",
        "from tqdm import tqdm\n",
        "import pandas as pd\n",
        "import re"
      ],
      "metadata": {
        "id": "aRFa5In-fMWI"
      },
      "execution_count": 6,
      "outputs": []
    },
    {
      "cell_type": "code",
      "source": [
        "genres_df = genres_df = pd.read_csv(\"movies_genres.csv\")"
      ],
      "metadata": {
        "id": "TPqStDlSveMD"
      },
      "execution_count": 7,
      "outputs": []
    },
    {
      "cell_type": "code",
      "source": [
        "genres_df[\"title\"] = genres_df[\"title\"].str.replace(r\"\\s*\\(\\d{4}\\)\", \"\", regex=True)"
      ],
      "metadata": {
        "id": "6erjj1psvwyg"
      },
      "execution_count": 8,
      "outputs": []
    },
    {
      "cell_type": "code",
      "source": [
        "genres_df[\"title\"] = genres_df[\"title\"].str.lower()"
      ],
      "metadata": {
        "id": "ggTTQA7qiDNJ"
      },
      "execution_count": 9,
      "outputs": []
    },
    {
      "cell_type": "code",
      "source": [
        "genres_df[\"n_generos\"] = genres_df[\"genres\"].str.split(\"|\").apply(len)"
      ],
      "metadata": {
        "id": "khbG-hahvyge"
      },
      "execution_count": 10,
      "outputs": []
    },
    {
      "cell_type": "code",
      "source": [
        "len(genres_df)"
      ],
      "metadata": {
        "colab": {
          "base_uri": "https://localhost:8080/"
        },
        "id": "HvKL025-vz0d",
        "outputId": "9ea14ac5-b11f-4fb1-fd57-bc0af218479b"
      },
      "execution_count": 11,
      "outputs": [
        {
          "output_type": "execute_result",
          "data": {
            "text/plain": [
              "87585"
            ]
          },
          "metadata": {},
          "execution_count": 11
        }
      ]
    },
    {
      "cell_type": "markdown",
      "source": [
        "## Funciones para poder leer el dataset"
      ],
      "metadata": {
        "id": "KO2yqU98nSKG"
      }
    },
    {
      "cell_type": "code",
      "source": [
        "import json\n",
        "import csv\n",
        "import re\n",
        "import copy\n",
        "def read_json(path):\n",
        "    with open(path, 'r') as file:\n",
        "        df = json.load(file)\n",
        "    return df\n",
        "\n",
        "\n",
        "def read_txt(txt_path):\n",
        "    with open(txt_path, 'r') as file:\n",
        "        text = file.read()\n",
        "    return text\n",
        "\n",
        "\n",
        "def read_dialogue(txt_path):\n",
        "    with open(txt_path, 'r', encoding='utf-8') as file:\n",
        "        content = file.read()\n",
        "    return content\n",
        "\n",
        "\n",
        "def split_dialogues(text):\n",
        "    dialogues = []\n",
        "    current_number = None\n",
        "    current_dialogue = ''\n",
        "\n",
        "    lines = text.split('\\n')\n",
        "\n",
        "    for line in lines:\n",
        "        if line.isdigit():\n",
        "            if current_number is not None:\n",
        "                dialogues.append((current_number, current_dialogue.strip()))\n",
        "                current_dialogue = ''\n",
        "            current_number = line\n",
        "        else:\n",
        "            current_dialogue += line + '\\n'\n",
        "\n",
        "    if current_number is not None and current_dialogue.strip():\n",
        "        dialogues.append((current_number, current_dialogue.strip()))\n",
        "\n",
        "    return dialogues\n",
        "\n",
        "\n",
        "def get_conversation_by_id(content, conversation_id):\n",
        "\n",
        "    lines = content.strip().split('\\n\\n')\n",
        "    current_id = None\n",
        "    conversation = []\n",
        "\n",
        "    for line in lines:\n",
        "        if line.isdigit():\n",
        "\n",
        "            if current_id is not None and conversation:\n",
        "                if current_id == conversation_id:\n",
        "                    return ''.join(conversation)\n",
        "                conversation = []\n",
        "            current_id = int(line)\n",
        "        else:\n",
        "            conversation.append(line + '\\n\\n')\n",
        "\n",
        "\n",
        "    if current_id == conversation_id:\n",
        "        return ''.join(conversation)\n",
        "\n",
        "    return 'Can not find the Conversation:{}'.format(conversation_id)\n",
        "\n",
        "\n",
        "def read_jsonl(path):\n",
        "    with open(path, \"r\") as fr:\n",
        "        output_lines = fr.readlines()\n",
        "    return output_lines\n",
        "\n",
        "\n",
        "def read_string_by_line(line_number, path):\n",
        "    with open(path, 'r') as file:\n",
        "        lines = file.readlines()\n",
        "        if line_number < len(lines):\n",
        "            return lines[line_number].strip()\n",
        "        else:\n",
        "            return None\n",
        "\n",
        "\n",
        "def read_csv(path):\n",
        "    result = []\n",
        "    with open(path, mode='r', encoding='utf-8') as file:\n",
        "        reader = csv.reader(file)\n",
        "        for row in reader:\n",
        "            result.append(row[0])\n",
        "    return result\n",
        "\n",
        "\n",
        "def read_user_data(filename, user_id):\n",
        "    with open(filename, 'r', encoding='utf-8') as file:\n",
        "        data = [json.loads(line) for line in file]\n",
        "\n",
        "    for entry in data:\n",
        "        if user_id in entry:\n",
        "            return entry[user_id]\n",
        "\n",
        "    return None\n",
        "\n",
        "def item_id_to_item_name(item_id, item_id_dict):\n",
        "  if item_id_dict[item_id] is not None:\n",
        "    return item_id_dict[item_id]\n",
        "  return \"\"\n",
        "\n",
        "def get_movies(recommend_movies):\n",
        "  pattern = r'\"(.*?)\"'\n",
        "  movie_titles = re.findall(pattern, recommend_movies)\n",
        "  return movie_titles\n"
      ],
      "metadata": {
        "id": "H_I7CZN1OzV4"
      },
      "execution_count": 12,
      "outputs": []
    },
    {
      "cell_type": "markdown",
      "source": [
        "## Obtención de datos para cada usuario"
      ],
      "metadata": {
        "id": "kfPElzMRf7gk"
      }
    },
    {
      "cell_type": "code",
      "source": [
        "\n",
        "\n",
        "path = './Movie'\n",
        "final_data_path = '{}/final_data.jsonl'.format(path)\n",
        "Conversation_path = '{}/Conversation.txt'.format(path)\n",
        "user_map_path = '{}/user_ids.json'.format(path)\n",
        "item_map_path = '{}/item_map.json'.format(path)\n",
        "\n",
        "\n",
        "'''Part 1:If you want to go through the whole data'''\n",
        "\n",
        "final_data = read_jsonl(final_data_path)\n",
        "user_map = read_json(user_map_path)\n",
        "item_map = read_json(item_map_path)\n",
        "Conversation = read_dialogue(Conversation_path)\n",
        "Total_len = len(final_data)\n",
        "val_user_recommendations = dict()\n",
        "user_likes= dict()\n",
        "user_dislikes = dict()\n",
        "user_history = dict()\n",
        "movie_popularity = dict()\n",
        "for i in tqdm(range(Total_len), desc='Processing'):\n",
        "        Per_data = json.loads(final_data[i])\n",
        "        user_id, user_information = next(iter(Per_data.items()))\n",
        "        # read user's history_interaction\n",
        "        history_interaction = user_information['history_interaction']\n",
        "        for m in range(len(history_interaction)):\n",
        "          name = item_map[history_interaction[m]].lower()\n",
        "          if name not in movie_popularity:\n",
        "            movie_popularity[name] = 1/3131\n",
        "          else:\n",
        "            movie_popularity[name] += 1/3131\n",
        "          history_interaction[m] = name\n",
        "        if user_id not in user_history:\n",
        "          user_history[user_id] = history_interaction\n",
        "        # read user_might_likes\n",
        "        user_might_likes = user_information['user_might_like']\n",
        "        for m in range(len(user_might_likes)):\n",
        "          name = item_map[user_might_likes[m]].lower()\n",
        "          user_might_likes[m] = name\n",
        "\n",
        "        if user_id not in val_user_recommendations:\n",
        "          val_user_recommendations[user_id] = user_might_likes\n",
        "        # read Conversation_info\n",
        "        Conversation_info = user_information['Conversation']\n",
        "        # read Conversation Detail Information\n",
        "        for j in range(len(Conversation_info)):\n",
        "            per_conversation_info = Conversation_info[j]['conversation_{}'.format(j+1)]\n",
        "            user_likes_id = per_conversation_info['user_likes']\n",
        "            user_dislikes_id = per_conversation_info['user_dislikes']\n",
        "            user_likes_names = []\n",
        "            user_dislikes_names = []\n",
        "            for m in range(len(user_likes_id)):\n",
        "              name = item_map[user_likes_id[m]].lower()\n",
        "              user_likes_names.append(name)\n",
        "            for m in range(len(user_dislikes_id)):\n",
        "              name = item_map[user_dislikes_id[m]].lower()\n",
        "              user_dislikes_names.append(name)\n",
        "            if user_id not in user_likes:\n",
        "              user_likes[user_id] = user_likes_names\n",
        "              user_dislikes[user_id] = user_dislikes_names\n",
        "print(len(val_user_recommendations), len(user_likes),len(user_dislikes), len(user_history), len(movie_popularity))\n",
        "median_pop = 0\n",
        "for movie in movie_popularity:\n",
        "  median_pop += movie_popularity[movie]\n",
        "print(median_pop/9512)\n",
        "with open(\"val_recommendation.json\", \"w\") as f:\n",
        "  json.dump(val_user_recommendations, f, indent=4)\n",
        "with open(\"user_likes.json\", \"w\") as f:\n",
        "  json.dump(user_likes, f, indent=4)\n",
        "with open(\"user_dislikes.json\", \"w\") as f:\n",
        "  json.dump(user_dislikes, f, indent=4)\n",
        "with open(\"user_history.json\", \"w\") as f:\n",
        "  json.dump(user_history, f, indent=4)\n",
        "with open(\"movie_pop.json\", \"w\") as f:\n",
        "  json.dump(movie_popularity, f, indent=4)"
      ],
      "metadata": {
        "colab": {
          "base_uri": "https://localhost:8080/"
        },
        "id": "Sw5gfcd2etcP",
        "outputId": "53ff0692-7b5a-4b1a-e95d-99d211b682fc"
      },
      "execution_count": 13,
      "outputs": [
        {
          "output_type": "stream",
          "name": "stderr",
          "text": [
            "Processing: 100%|██████████| 3131/3131 [00:01<00:00, 2795.98it/s]\n"
          ]
        },
        {
          "output_type": "stream",
          "name": "stdout",
          "text": [
            "3131 3131 3131 3131 9512\n",
            "0.004987832948627484\n"
          ]
        }
      ]
    },
    {
      "cell_type": "markdown",
      "source": [
        "## Tipos de mensajes que se le van a pasar al modelo"
      ],
      "metadata": {
        "id": "e_iFDzJagGPA"
      }
    },
    {
      "cell_type": "code",
      "source": [
        "all_messages = {\n",
        "    \"zero_shot\": {\n",
        "        \"no_one\": [\n",
        "            {\"role\": \"system\", \"content\": \"You are a helpful movie recommender system. I will give you a conversation between a human and assistant. Based on the conversation, you reply me with 20 recommendations without extra sentences, only the names. You also have the historical views of this user, that contains: {hist}.\"},\n",
        "            {\"role\": \"user\", \"content\": \"Hi, give me 20 movie recommendations that I haven't seen.\"}\n",
        "        ],\n",
        "        \"likes_dislikes\":[\n",
        "            {\"role\": \"system\", \"content\": \"You are a helpful movie recommender system. I will give you a conversation between a human and assistant. Based on the conversation, you reply me with 20 recommendations without extra sentences, only the names. You also have the historical views of this user, that contains: {hist}.\"},\n",
        "            {\"role\": \"user\", \"content\": \"Hi. I liked the following movies: {liked}. I didn't like the following movies: {disliked}. Give me 20 movie recommendations that I haven't seen.\"},\n",
        "        ],\n",
        "        \"likes\":[\n",
        "            {\"role\": \"system\", \"content\": \"You are a helpful movie recommender system. I will give you a conversation between a human and assistant. Based on the conversation, you reply me with 20 recommendations without extra sentences, only the names. You also have the historical views of this user, that contains: {hist}.\"},\n",
        "            {\"role\": \"user\", \"content\": \"Hi. I liked the following movies: {liked}. Give me 20 movie recommendations that I haven't seen.\"}\n",
        "        ],\n",
        "        \"dislikes\":[\n",
        "            {\"role\": \"system\", \"content\": \"You are a helpful movie recommender system. I will give you a conversation between a human and assistant. Based on the conversation, you reply me with 20 recommendations without extra sentences, only the names. You also have the historical views of this user, that contains: {hist}.\"},\n",
        "            {\"role\": \"user\", \"content\": \"Hi, I didn't like the following movies: {disliked}. Give me 20 movie recommendations that I haven't seen.\"}\n",
        "        ]\n",
        "    },\n",
        "    \"few_shot\":{\n",
        "        \"no_one\": [\n",
        "            {\"role\": \"system\", \"content\": \"You are a helpful movie recommender system. I will give you a conversation between a human and assistant as an example, and a last sentece that is the real conversation. Based on the last sentence, you reply me with 20 recommendations without extra sentences, only the names. You also have the historical views of this user, that contains: {hist}.\"},\n",
        "            {\"role\": \"user\", \"content\": \"\"\" Hi, what kind of movie can I suggest to you?\"\"\"},\n",
        "            {\"role\": \"assistant\", \"content\": \"\"\" What kind of movies do you like? I'm good, thanks for asking! Have a great day!\"\"\"},\n",
        "            {\"role\": \"user\", \"content\": \"\"\" I am looking for a slap stick comedy from the 80’s or 90’s.\"\"\"},\n",
        "            {\"role\": \"assistant\", \"content\": \"\"\" What kind of movies do you like? I’m good, thanks for asking! Have a great day! \"\"\"},\n",
        "            {\"role\": \"user\", \"content\": \"\"\"Do you have any animated recommendations that are a bit more dramatic? Like A Scanner Darkly for example.\"\"\"},\n",
        "            {\"role\": \"assistant\", \"content\": \"\"\" Have you seen Final Fantasy: The Spirits Within? It’s animated sci-fi with depth and drama!\"\"\"},\n",
        "            {\"role\": \"user\", \"content\": \"Hi, give me 20 movie recommendations that I haven't seen.\"}\n",
        "        ],\n",
        "        \"likes_dislikes\":[\n",
        "            {\"role\": \"system\", \"content\": \"You are a helpful movie recommender system. I will give you a conversation between a human and assistant as an example, and a last sentece that is the real conversation. Based on the last sentence, you reply me with 20 recommendations without extra sentences, only the names. You also have the historical views of this user, that contains: {hist}.\"},\n",
        "            {\"role\": \"user\", \"content\": \"\"\" Hi, what kind of movie can I suggest to you?\"\"\"},\n",
        "            {\"role\": \"assistant\", \"content\": \"\"\" What kind of movies do you like? I'm good, thanks for asking! Have a great day!\"\"\"},\n",
        "            {\"role\": \"user\", \"content\": \"\"\" I am looking for a slap stick comedy from the 80’s or 90’s.\"\"\"},\n",
        "            {\"role\": \"assistant\", \"content\": \"\"\" What kind of movies do you like? I’m good, thanks for asking! Have a great day! \"\"\"},\n",
        "            {\"role\": \"user\", \"content\": \"\"\"Do you have any animated recommendations that are a bit more dramatic? Like A Scanner Darkly for example.\"\"\"},\n",
        "            {\"role\": \"assistant\", \"content\": \"\"\" Have you seen Final Fantasy: The Spirits Within? It’s animated sci-fi with depth and drama!\"\"\"},\n",
        "            {\"role\": \"user\", \"content\": \"Hi. I liked the following movies: {liked}. I didn't like the following movies: {disliked}. Give me 20 movie recommendations that I haven't seen.\"},\n",
        "        ],\n",
        "        \"likes\":[\n",
        "            {\"role\": \"system\", \"content\": \"You are a helpful movie recommender system. I will give you a conversation between a human and assistant as an example, and a last sentece that is the real conversation. Based on the last sentence, you reply me with 20 recommendations without extra sentences, only the names. You also have the historical views of this user, that contains: {hist}.\"},\n",
        "            {\"role\": \"user\", \"content\": \"\"\" Hi, what kind of movie can I suggest to you?\"\"\"},\n",
        "            {\"role\": \"assistant\", \"content\": \"\"\" What kind of movies do you like? I'm good, thanks for asking! Have a great day!\"\"\"},\n",
        "            {\"role\": \"user\", \"content\": \"\"\" I am looking for a slap stick comedy from the 80’s or 90’s.\"\"\"},\n",
        "            {\"role\": \"assistant\", \"content\": \"\"\" What kind of movies do you like? I’m good, thanks for asking! Have a great day! \"\"\"},\n",
        "            {\"role\": \"user\", \"content\": \"\"\"Do you have any animated recommendations that are a bit more dramatic? Like A Scanner Darkly for example.\"\"\"},\n",
        "            {\"role\": \"assistant\", \"content\": \"\"\" Have you seen Final Fantasy: The Spirits Within? It’s animated sci-fi with depth and drama!\"\"\"},\n",
        "            {\"role\": \"user\", \"content\": \"Hi. I liked the following movies: {liked}. Give me 20 movie recommendations that I haven't seen.\"}\n",
        "        ],\n",
        "        \"dislikes\":[\n",
        "            {\"role\": \"system\", \"content\": \"You are a helpful movie recommender system. I will give you a conversation between a human and assistant as an example, and a last sentece that is the real conversation. Based on the last sentence, you reply me with 20 recommendations without extra sentences, only the names. You also have the historical views of this user, that contains: {hist}.\"},\n",
        "            {\"role\": \"user\", \"content\": \"\"\" Hi, what kind of movie can I suggest to you?\"\"\"},\n",
        "            {\"role\": \"assistant\", \"content\": \"\"\" What kind of movies do you like? I'm good, thanks for asking! Have a great day!\"\"\"},\n",
        "            {\"role\": \"user\", \"content\": \"\"\" I am looking for a slap stick comedy from the 80’s or 90’s.\"\"\"},\n",
        "            {\"role\": \"assistant\", \"content\": \"\"\" What kind of movies do you like? I’m good, thanks for asking! Have a great day! \"\"\"},\n",
        "            {\"role\": \"user\", \"content\": \"\"\"Do you have any animated recommendations that are a bit more dramatic? Like A Scanner Darkly for example.\"\"\"},\n",
        "            {\"role\": \"assistant\", \"content\": \"\"\" Have you seen Final Fantasy: The Spirits Within? It’s animated sci-fi with depth and drama!\"\"\"},\n",
        "            {\"role\": \"user\", \"content\": \"Hi, I didn't like the following movies: {disliked}. Give me 20 movie recommendations that I haven't seen.\"}\n",
        "        ]\n",
        "    },\n",
        "    \"cot\":{\n",
        "        \"no_one\": [\n",
        "            {\"role\": \"system\", \"content\": \"\"\"You are a helpful movie recommender system. I will give you a conversation between a human and assistant. Based on the conversation, you reply me with 20 recommendations without extra sentences, only the names. You also have the historical views of this user, that contains: {hist}. Follow this step-by-step reasoning before providing your list of recommendations: Identify the key genres and themes in the user's preferences. Search your knowledge base for movies that match those criteria. Select the 20 most relevant ones and rank them from most to least recommended.\"\"\"},\n",
        "            {\"role\": \"user\", \"content\": \"Hi, give me 20 movie recommendations that I haven't seen.\"}\n",
        "        ],\n",
        "        \"likes_dislikes\":[\n",
        "            {\"role\": \"system\", \"content\": \"\"\"You are a helpful movie recommender system. I will give you a conversation between a human and assistant. Based on the conversation, you reply me with 20 recommendations without extra sentences, only the names. You also have the historical views of this user, that contains: {hist}. Follow this step-by-step reasoning before providing your list of recommendations: Identify the key genres and themes in the user's preferences. Search your knowledge base for movies that match those criteria. Select the 20 most relevant ones and rank them from most to least recommended.\"\"\"},\n",
        "            {\"role\": \"user\", \"content\": \"Hi. I liked the following movies: {liked}. I didn't like the following movies: {disliked}. Give me 20 movie recommendations that I haven't seen.\"},\n",
        "        ],\n",
        "        \"likes\":[\n",
        "            {\"role\": \"system\", \"content\": \"\"\"You are a helpful movie recommender system. I will give you a conversation between a human and assistant. Based on the conversation, you reply me with 20 recommendations without extra sentences, only the names. You also have the historical views of this user, that contains: {hist}. Follow this step-by-step reasoning before providing your list of recommendations: Identify the key genres and themes in the user's preferences. Search your knowledge base for movies that match those criteria. Select the 20 most relevant ones and rank them from most to least recommended.\"\"\"},\n",
        "            {\"role\": \"user\", \"content\": \"Hi. I liked the following movies: {liked}. Give me 20 movie recommendations that I haven't seen.\"}\n",
        "        ],\n",
        "        \"dislikes\":[\n",
        "            {\"role\": \"system\", \"content\": \"\"\"You are a helpful movie recommender system. I will give you a conversation between a human and assistant. Based on the conversation, you reply me with 20 recommendations without extra sentences, only the names. You also have the historical views of this user, that contains: {hist}. Follow this step-by-step reasoning before providing your list of recommendations: Identify the key genres and themes in the user's preferences. Search your knowledge base for movies that match those criteria. Select the 20 most relevant ones and rank them from most to least recommended.\"\"\"},\n",
        "            {\"role\": \"user\", \"content\": \"Hi, I didn't like the following movies: {disliked}. Give me 20 movie recommendations that I haven't seen.\"}\n",
        "        ]\n",
        "    }\n",
        "}"
      ],
      "metadata": {
        "id": "triC75PxgcCL"
      },
      "execution_count": 14,
      "outputs": []
    },
    {
      "cell_type": "code",
      "source": [
        "messages_pr = all_messages[\"few_shot\"][\"likes_dislikes\"]\n",
        "print(messages_pr)"
      ],
      "metadata": {
        "colab": {
          "base_uri": "https://localhost:8080/"
        },
        "id": "MvWBpAs4XDTC",
        "outputId": "e665d2da-1583-49e0-d68b-50ef404351af"
      },
      "execution_count": null,
      "outputs": [
        {
          "output_type": "stream",
          "name": "stdout",
          "text": [
            "[{'role': 'system', 'content': 'You are a helpful movie recommender system. I will give you a conversation between a human and assistant. Based on the conversation, you reply me with 20 recommendations without extra sentences, only the names. You also have the historical views of this user, that contains: {hist}.'}, {'role': 'user', 'content': ' Hi, what kind of movie can I suggest to you?'}, {'role': 'assistant', 'content': \" What kind of movies do you like? I'm good, thanks for asking! Have a great day!\"}, {'role': 'user', 'content': ' I am looking for a slap stick comedy from the 80’s or 90’s.'}, {'role': 'assistant', 'content': ' What kind of movies do you like? I’m good, thanks for asking! Have a great day! '}, {'role': 'user', 'content': 'Do you have any animated recommendations that are a bit more dramatic? Like A Scanner Darkly for example.'}, {'role': 'assistant', 'content': ' Have you seen Final Fantasy: The Spirits Within? It’s animated sci-fi with depth and drama!'}, {'role': 'user', 'content': \"Hi. I liked the following movies: {liked}. I didn't like the following movies: {disliked}. Give me 20 movie recommendations that I haven't seen.\"}]\n"
          ]
        }
      ]
    },
    {
      "cell_type": "markdown",
      "source": [
        "## Obtener recomendaciones del modelo"
      ],
      "metadata": {
        "id": "jSCmvST2gMLk"
      }
    },
    {
      "cell_type": "code",
      "source": [
        "path = '.'\n",
        "user_likes_path = '{}/user_likes.json'.format(path)\n",
        "user_dislikes_path = '{}/user_dislikes.json'.format(path)\n",
        "user_history_path = '{}/user_history.json'.format(path)\n",
        "val_recommendation_path = '{}/val_recommendation.json'.format(path)\n",
        "\n",
        "user_likes = read_json(user_likes_path)\n",
        "user_dislikes= read_json(user_dislikes_path)\n",
        "user_history = read_json(user_history_path)\n",
        "val_recommendations = read_json(val_recommendation_path)\n",
        "num_users= len(val_recommendations)\n",
        "# Cargar tokenizer y modelo\n",
        "tecnicas = [\"zero_shot\", \"few_shot\", \"cot\"]\n",
        "llm_recommend = dict()\n",
        "contador = 0\n",
        "for u in list(val_recommendations.keys())[:100]:\n",
        "  contador +=1\n",
        "  user_liked_movies = user_likes[u]\n",
        "  user_disliked_movies = user_dislikes[u]\n",
        "  user_history_movies = user_history[u]\n",
        "  if (contador != 0 and contador%25 == 0):\n",
        "    with open(\"./drive/MyDrive/llm_recommend.json\", \"w\") as f:\n",
        "      json.dump(llm_recommend, f, indent=4)\n",
        "  for tecnica in tecnicas:\n",
        "    if tecnica not in llm_recommend:\n",
        "      llm_recommend[tecnica] = dict()\n",
        "\n",
        "    if len(user_liked_movies) == 0 and len(user_disliked_movies) ==0:\n",
        "      hist = \"\"\n",
        "      largo_historial = len(user_history_movies)\n",
        "      for i in range(largo_historial):\n",
        "        if i != largo_historial -1:\n",
        "          hist+=user_history_movies[i]+ \", \"\n",
        "        else:\n",
        "          hist+=user_history_movies[i]\n",
        "      messages = copy.deepcopy(all_messages[tecnica][\"no_one\"])\n",
        "      messages[0][\"content\"] = messages[0][\"content\"].format(hist = hist)\n",
        "\n",
        "    elif len(user_liked_movies) >0 and len(user_disliked_movies) >0:\n",
        "      hist = \"\"\n",
        "      largo_historial = len(user_history_movies)\n",
        "      for i in range(largo_historial):\n",
        "        if i != largo_historial -1:\n",
        "          hist+=user_history_movies[i]+ \", \"\n",
        "        else:\n",
        "          hist+=user_history_movies[i]\n",
        "      liked  = \"\"\n",
        "      largo_liked = len(user_liked_movies)\n",
        "      for i in range(largo_liked):\n",
        "        if i != largo_liked -1:\n",
        "          liked+=user_liked_movies[i]+ \", \"\n",
        "        else:\n",
        "          liked+=user_liked_movies[i]\n",
        "      disliked  = \"\"\n",
        "      largo_disliked = len(user_disliked_movies)\n",
        "      for i in range(largo_disliked):\n",
        "        if i != largo_disliked -1:\n",
        "          disliked+=user_disliked_movies[i]+ \", \"\n",
        "        else:\n",
        "          disliked+=user_disliked_movies[i]\n",
        "      messages = copy.deepcopy(all_messages[tecnica][\"likes_dislikes\"])\n",
        "      messages[0][\"content\"] = messages[0][\"content\"].format(hist = hist)\n",
        "      messages[len(messages) -1][\"content\"] = messages[len(messages) -1][\"content\"].format(liked = liked, disliked = disliked)\n",
        "      # messages = [\n",
        "      #   {\"role\": \"system\", \"content\": f\"You are a helpful movie recommender system. I will give you a conversation between a human and assistant. Based on the conversation, you reply me with 10 recommendations without extra sentences, only the names. You also have the historical views of this human, that contains: {hist}.\"},\n",
        "      #   {\"role\": \"user\", \"content\": f\"Hi. I liked the following movies: {liked}. I didn't like the following movies: {disliked}. Give me 10 movie recommendations that I haven't seen.\"},\n",
        "      # ] #like and dislikes\n",
        "    elif len(user_liked_movies) >0 and len(user_disliked_movies) ==0:\n",
        "      hist = \"\"\n",
        "      largo_historial = len(user_history_movies)\n",
        "      for i in range(largo_historial):\n",
        "        if i != largo_historial -1:\n",
        "          hist+=user_history_movies[i]+ \", \"\n",
        "        else:\n",
        "          hist+=user_history_movies[i]\n",
        "      liked  = \"\"\n",
        "      largo_liked = len(user_liked_movies)\n",
        "      for i in range(largo_liked):\n",
        "        if i != largo_liked -1:\n",
        "          liked+=user_liked_movies[i]+ \", \"\n",
        "        else:\n",
        "          liked+=user_liked_movies[i]\n",
        "      messages = copy.deepcopy(all_messages[tecnica][\"likes\"])\n",
        "\n",
        "      messages[0][\"content\"] = messages[0][\"content\"].format(hist = hist)\n",
        "      messages[len(messages) -1][\"content\"] = messages[len(messages) -1][\"content\"].format(liked = liked)\n",
        "\n",
        "      # messages = [\n",
        "      #   {\"role\": \"system\", \"content\": f\"You are a helpful movie recommender system. I will give you a conversation between a human and assistant. Based on the conversation, you reply me with 10 recommendations without extra sentences, only the names. You also have the historical views of this human, that contains: {hist}.\"},\n",
        "      #   {\"role\": \"user\", \"content\": f\"Hi. I liked the following movies: {liked}. Give me 10 movie recommendations that I haven't seen.\"},\n",
        "      # ] # only likes\n",
        "    elif len(user_liked_movies) ==0 and len(user_disliked_movies) >0:\n",
        "      hist = \"\"\n",
        "      largo_historial = len(user_history_movies)\n",
        "      for i in range(largo_historial):\n",
        "        if i != largo_historial -1:\n",
        "          hist+=user_history_movies[i]+ \", \"\n",
        "        else:\n",
        "          hist+=user_history_movies[i]\n",
        "      disliked  = \"\"\n",
        "      largo_disliked = len(user_disliked_movies)\n",
        "      for i in range(largo_disliked):\n",
        "        if i != largo_disliked -1:\n",
        "          disliked+=user_disliked_movies[i]+ \", \"\n",
        "        else:\n",
        "          disliked+=user_disliked_movies[i]\n",
        "      messages = copy.deepcopy(all_messages[tecnica][\"dislikes\"])\n",
        "      messages[0][\"content\"] = messages[0][\"content\"].format(hist = hist)\n",
        "      messages[len(messages) -1][\"content\"] = messages[len(messages) -1][\"content\"].format(disliked = disliked)\n",
        "      # messages = [\n",
        "      #   {\"role\": \"system\", \"content\": f\"You are a helpful movie recommender system. I will give you a conversation between a human and assistant. Based on the conversation, you reply me with 10 recommendations without extra sentences, only the names. You also have the historical views of this human, that contains: {hist}.\"},\n",
        "      #   {\"role\": \"user\", \"content\": f\"Hi, I didn't like the following movies: {disliked}. Give me 10 movie recommendations that I haven't seen.\"},\n",
        "      # ] # only dislikes\n",
        "    #print(liked)\n",
        "    output = pipe(messages, **generation_args)\n",
        "    if u not in llm_recommend[tecnica]:\n",
        "      llm_recommend[tecnica][u] = [output[0][\"generated_text\"]]\n",
        "    else:\n",
        "      llm_recommend[tecnica][u] = llm_recommend[tecnica][u].append(output[0][\"generated_text\"])\n",
        "with open(\"./drive/MyDrive/llm_recommend.json\", \"w\") as f:\n",
        "  json.dump(llm_recommend, f, indent=4)\n"
      ],
      "metadata": {
        "colab": {
          "base_uri": "https://localhost:8080/"
        },
        "id": "zPf0QHMMlg5S",
        "outputId": "e9ad6541-6a70-4944-9fbc-8131a4169c15"
      },
      "execution_count": null,
      "outputs": [
        {
          "output_type": "stream",
          "name": "stderr",
          "text": [
            "The following generation flags are not valid and may be ignored: ['temperature']. Set `TRANSFORMERS_VERBOSITY=info` for more details.\n",
            "The following generation flags are not valid and may be ignored: ['temperature']. Set `TRANSFORMERS_VERBOSITY=info` for more details.\n",
            "The following generation flags are not valid and may be ignored: ['temperature']. Set `TRANSFORMERS_VERBOSITY=info` for more details.\n",
            "The following generation flags are not valid and may be ignored: ['temperature']. Set `TRANSFORMERS_VERBOSITY=info` for more details.\n",
            "The following generation flags are not valid and may be ignored: ['temperature']. Set `TRANSFORMERS_VERBOSITY=info` for more details.\n",
            "The following generation flags are not valid and may be ignored: ['temperature']. Set `TRANSFORMERS_VERBOSITY=info` for more details.\n",
            "The following generation flags are not valid and may be ignored: ['temperature']. Set `TRANSFORMERS_VERBOSITY=info` for more details.\n",
            "The following generation flags are not valid and may be ignored: ['temperature']. Set `TRANSFORMERS_VERBOSITY=info` for more details.\n",
            "The following generation flags are not valid and may be ignored: ['temperature']. Set `TRANSFORMERS_VERBOSITY=info` for more details.\n",
            "The following generation flags are not valid and may be ignored: ['temperature']. Set `TRANSFORMERS_VERBOSITY=info` for more details.\n",
            "You seem to be using the pipelines sequentially on GPU. In order to maximize efficiency please use a dataset\n",
            "The following generation flags are not valid and may be ignored: ['temperature']. Set `TRANSFORMERS_VERBOSITY=info` for more details.\n",
            "The following generation flags are not valid and may be ignored: ['temperature']. Set `TRANSFORMERS_VERBOSITY=info` for more details.\n",
            "The following generation flags are not valid and may be ignored: ['temperature']. Set `TRANSFORMERS_VERBOSITY=info` for more details.\n",
            "The following generation flags are not valid and may be ignored: ['temperature']. Set `TRANSFORMERS_VERBOSITY=info` for more details.\n",
            "The following generation flags are not valid and may be ignored: ['temperature']. Set `TRANSFORMERS_VERBOSITY=info` for more details.\n",
            "The following generation flags are not valid and may be ignored: ['temperature']. Set `TRANSFORMERS_VERBOSITY=info` for more details.\n",
            "The following generation flags are not valid and may be ignored: ['temperature']. Set `TRANSFORMERS_VERBOSITY=info` for more details.\n",
            "The following generation flags are not valid and may be ignored: ['temperature']. Set `TRANSFORMERS_VERBOSITY=info` for more details.\n",
            "The following generation flags are not valid and may be ignored: ['temperature']. Set `TRANSFORMERS_VERBOSITY=info` for more details.\n",
            "The following generation flags are not valid and may be ignored: ['temperature']. Set `TRANSFORMERS_VERBOSITY=info` for more details.\n",
            "The following generation flags are not valid and may be ignored: ['temperature']. Set `TRANSFORMERS_VERBOSITY=info` for more details.\n",
            "The following generation flags are not valid and may be ignored: ['temperature']. Set `TRANSFORMERS_VERBOSITY=info` for more details.\n",
            "The following generation flags are not valid and may be ignored: ['temperature']. Set `TRANSFORMERS_VERBOSITY=info` for more details.\n",
            "The following generation flags are not valid and may be ignored: ['temperature']. Set `TRANSFORMERS_VERBOSITY=info` for more details.\n",
            "The following generation flags are not valid and may be ignored: ['temperature']. Set `TRANSFORMERS_VERBOSITY=info` for more details.\n",
            "The following generation flags are not valid and may be ignored: ['temperature']. Set `TRANSFORMERS_VERBOSITY=info` for more details.\n",
            "The following generation flags are not valid and may be ignored: ['temperature']. Set `TRANSFORMERS_VERBOSITY=info` for more details.\n",
            "The following generation flags are not valid and may be ignored: ['temperature']. Set `TRANSFORMERS_VERBOSITY=info` for more details.\n",
            "The following generation flags are not valid and may be ignored: ['temperature']. Set `TRANSFORMERS_VERBOSITY=info` for more details.\n",
            "The following generation flags are not valid and may be ignored: ['temperature']. Set `TRANSFORMERS_VERBOSITY=info` for more details.\n",
            "The following generation flags are not valid and may be ignored: ['temperature']. Set `TRANSFORMERS_VERBOSITY=info` for more details.\n",
            "The following generation flags are not valid and may be ignored: ['temperature']. Set `TRANSFORMERS_VERBOSITY=info` for more details.\n",
            "The following generation flags are not valid and may be ignored: ['temperature']. Set `TRANSFORMERS_VERBOSITY=info` for more details.\n",
            "The following generation flags are not valid and may be ignored: ['temperature']. Set `TRANSFORMERS_VERBOSITY=info` for more details.\n",
            "The following generation flags are not valid and may be ignored: ['temperature']. Set `TRANSFORMERS_VERBOSITY=info` for more details.\n",
            "The following generation flags are not valid and may be ignored: ['temperature']. Set `TRANSFORMERS_VERBOSITY=info` for more details.\n",
            "The following generation flags are not valid and may be ignored: ['temperature']. Set `TRANSFORMERS_VERBOSITY=info` for more details.\n",
            "The following generation flags are not valid and may be ignored: ['temperature']. Set `TRANSFORMERS_VERBOSITY=info` for more details.\n",
            "The following generation flags are not valid and may be ignored: ['temperature']. Set `TRANSFORMERS_VERBOSITY=info` for more details.\n",
            "The following generation flags are not valid and may be ignored: ['temperature']. Set `TRANSFORMERS_VERBOSITY=info` for more details.\n",
            "The following generation flags are not valid and may be ignored: ['temperature']. Set `TRANSFORMERS_VERBOSITY=info` for more details.\n",
            "The following generation flags are not valid and may be ignored: ['temperature']. Set `TRANSFORMERS_VERBOSITY=info` for more details.\n",
            "The following generation flags are not valid and may be ignored: ['temperature']. Set `TRANSFORMERS_VERBOSITY=info` for more details.\n",
            "The following generation flags are not valid and may be ignored: ['temperature']. Set `TRANSFORMERS_VERBOSITY=info` for more details.\n",
            "The following generation flags are not valid and may be ignored: ['temperature']. Set `TRANSFORMERS_VERBOSITY=info` for more details.\n",
            "The following generation flags are not valid and may be ignored: ['temperature']. Set `TRANSFORMERS_VERBOSITY=info` for more details.\n",
            "The following generation flags are not valid and may be ignored: ['temperature']. Set `TRANSFORMERS_VERBOSITY=info` for more details.\n",
            "The following generation flags are not valid and may be ignored: ['temperature']. Set `TRANSFORMERS_VERBOSITY=info` for more details.\n",
            "The following generation flags are not valid and may be ignored: ['temperature']. Set `TRANSFORMERS_VERBOSITY=info` for more details.\n",
            "The following generation flags are not valid and may be ignored: ['temperature']. Set `TRANSFORMERS_VERBOSITY=info` for more details.\n",
            "The following generation flags are not valid and may be ignored: ['temperature']. Set `TRANSFORMERS_VERBOSITY=info` for more details.\n",
            "The following generation flags are not valid and may be ignored: ['temperature']. Set `TRANSFORMERS_VERBOSITY=info` for more details.\n",
            "The following generation flags are not valid and may be ignored: ['temperature']. Set `TRANSFORMERS_VERBOSITY=info` for more details.\n",
            "The following generation flags are not valid and may be ignored: ['temperature']. Set `TRANSFORMERS_VERBOSITY=info` for more details.\n",
            "The following generation flags are not valid and may be ignored: ['temperature']. Set `TRANSFORMERS_VERBOSITY=info` for more details.\n",
            "The following generation flags are not valid and may be ignored: ['temperature']. Set `TRANSFORMERS_VERBOSITY=info` for more details.\n",
            "The following generation flags are not valid and may be ignored: ['temperature']. Set `TRANSFORMERS_VERBOSITY=info` for more details.\n",
            "The following generation flags are not valid and may be ignored: ['temperature']. Set `TRANSFORMERS_VERBOSITY=info` for more details.\n",
            "The following generation flags are not valid and may be ignored: ['temperature']. Set `TRANSFORMERS_VERBOSITY=info` for more details.\n",
            "The following generation flags are not valid and may be ignored: ['temperature']. Set `TRANSFORMERS_VERBOSITY=info` for more details.\n",
            "The following generation flags are not valid and may be ignored: ['temperature']. Set `TRANSFORMERS_VERBOSITY=info` for more details.\n",
            "The following generation flags are not valid and may be ignored: ['temperature']. Set `TRANSFORMERS_VERBOSITY=info` for more details.\n",
            "The following generation flags are not valid and may be ignored: ['temperature']. Set `TRANSFORMERS_VERBOSITY=info` for more details.\n",
            "The following generation flags are not valid and may be ignored: ['temperature']. Set `TRANSFORMERS_VERBOSITY=info` for more details.\n",
            "The following generation flags are not valid and may be ignored: ['temperature']. Set `TRANSFORMERS_VERBOSITY=info` for more details.\n",
            "The following generation flags are not valid and may be ignored: ['temperature']. Set `TRANSFORMERS_VERBOSITY=info` for more details.\n",
            "The following generation flags are not valid and may be ignored: ['temperature']. Set `TRANSFORMERS_VERBOSITY=info` for more details.\n",
            "The following generation flags are not valid and may be ignored: ['temperature']. Set `TRANSFORMERS_VERBOSITY=info` for more details.\n",
            "The following generation flags are not valid and may be ignored: ['temperature']. Set `TRANSFORMERS_VERBOSITY=info` for more details.\n",
            "The following generation flags are not valid and may be ignored: ['temperature']. Set `TRANSFORMERS_VERBOSITY=info` for more details.\n",
            "The following generation flags are not valid and may be ignored: ['temperature']. Set `TRANSFORMERS_VERBOSITY=info` for more details.\n",
            "The following generation flags are not valid and may be ignored: ['temperature']. Set `TRANSFORMERS_VERBOSITY=info` for more details.\n",
            "The following generation flags are not valid and may be ignored: ['temperature']. Set `TRANSFORMERS_VERBOSITY=info` for more details.\n",
            "The following generation flags are not valid and may be ignored: ['temperature']. Set `TRANSFORMERS_VERBOSITY=info` for more details.\n",
            "The following generation flags are not valid and may be ignored: ['temperature']. Set `TRANSFORMERS_VERBOSITY=info` for more details.\n",
            "The following generation flags are not valid and may be ignored: ['temperature']. Set `TRANSFORMERS_VERBOSITY=info` for more details.\n",
            "The following generation flags are not valid and may be ignored: ['temperature']. Set `TRANSFORMERS_VERBOSITY=info` for more details.\n",
            "The following generation flags are not valid and may be ignored: ['temperature']. Set `TRANSFORMERS_VERBOSITY=info` for more details.\n",
            "The following generation flags are not valid and may be ignored: ['temperature']. Set `TRANSFORMERS_VERBOSITY=info` for more details.\n",
            "The following generation flags are not valid and may be ignored: ['temperature']. Set `TRANSFORMERS_VERBOSITY=info` for more details.\n",
            "The following generation flags are not valid and may be ignored: ['temperature']. Set `TRANSFORMERS_VERBOSITY=info` for more details.\n",
            "The following generation flags are not valid and may be ignored: ['temperature']. Set `TRANSFORMERS_VERBOSITY=info` for more details.\n",
            "The following generation flags are not valid and may be ignored: ['temperature']. Set `TRANSFORMERS_VERBOSITY=info` for more details.\n",
            "The following generation flags are not valid and may be ignored: ['temperature']. Set `TRANSFORMERS_VERBOSITY=info` for more details.\n",
            "The following generation flags are not valid and may be ignored: ['temperature']. Set `TRANSFORMERS_VERBOSITY=info` for more details.\n",
            "The following generation flags are not valid and may be ignored: ['temperature']. Set `TRANSFORMERS_VERBOSITY=info` for more details.\n",
            "The following generation flags are not valid and may be ignored: ['temperature']. Set `TRANSFORMERS_VERBOSITY=info` for more details.\n",
            "The following generation flags are not valid and may be ignored: ['temperature']. Set `TRANSFORMERS_VERBOSITY=info` for more details.\n",
            "The following generation flags are not valid and may be ignored: ['temperature']. Set `TRANSFORMERS_VERBOSITY=info` for more details.\n",
            "The following generation flags are not valid and may be ignored: ['temperature']. Set `TRANSFORMERS_VERBOSITY=info` for more details.\n",
            "The following generation flags are not valid and may be ignored: ['temperature']. Set `TRANSFORMERS_VERBOSITY=info` for more details.\n",
            "The following generation flags are not valid and may be ignored: ['temperature']. Set `TRANSFORMERS_VERBOSITY=info` for more details.\n",
            "The following generation flags are not valid and may be ignored: ['temperature']. Set `TRANSFORMERS_VERBOSITY=info` for more details.\n",
            "The following generation flags are not valid and may be ignored: ['temperature']. Set `TRANSFORMERS_VERBOSITY=info` for more details.\n",
            "The following generation flags are not valid and may be ignored: ['temperature']. Set `TRANSFORMERS_VERBOSITY=info` for more details.\n",
            "The following generation flags are not valid and may be ignored: ['temperature']. Set `TRANSFORMERS_VERBOSITY=info` for more details.\n",
            "The following generation flags are not valid and may be ignored: ['temperature']. Set `TRANSFORMERS_VERBOSITY=info` for more details.\n",
            "The following generation flags are not valid and may be ignored: ['temperature']. Set `TRANSFORMERS_VERBOSITY=info` for more details.\n",
            "The following generation flags are not valid and may be ignored: ['temperature']. Set `TRANSFORMERS_VERBOSITY=info` for more details.\n",
            "The following generation flags are not valid and may be ignored: ['temperature']. Set `TRANSFORMERS_VERBOSITY=info` for more details.\n",
            "The following generation flags are not valid and may be ignored: ['temperature']. Set `TRANSFORMERS_VERBOSITY=info` for more details.\n",
            "The following generation flags are not valid and may be ignored: ['temperature']. Set `TRANSFORMERS_VERBOSITY=info` for more details.\n",
            "The following generation flags are not valid and may be ignored: ['temperature']. Set `TRANSFORMERS_VERBOSITY=info` for more details.\n",
            "The following generation flags are not valid and may be ignored: ['temperature']. Set `TRANSFORMERS_VERBOSITY=info` for more details.\n",
            "The following generation flags are not valid and may be ignored: ['temperature']. Set `TRANSFORMERS_VERBOSITY=info` for more details.\n",
            "The following generation flags are not valid and may be ignored: ['temperature']. Set `TRANSFORMERS_VERBOSITY=info` for more details.\n",
            "The following generation flags are not valid and may be ignored: ['temperature']. Set `TRANSFORMERS_VERBOSITY=info` for more details.\n",
            "The following generation flags are not valid and may be ignored: ['temperature']. Set `TRANSFORMERS_VERBOSITY=info` for more details.\n",
            "The following generation flags are not valid and may be ignored: ['temperature']. Set `TRANSFORMERS_VERBOSITY=info` for more details.\n",
            "The following generation flags are not valid and may be ignored: ['temperature']. Set `TRANSFORMERS_VERBOSITY=info` for more details.\n",
            "The following generation flags are not valid and may be ignored: ['temperature']. Set `TRANSFORMERS_VERBOSITY=info` for more details.\n",
            "The following generation flags are not valid and may be ignored: ['temperature']. Set `TRANSFORMERS_VERBOSITY=info` for more details.\n",
            "The following generation flags are not valid and may be ignored: ['temperature']. Set `TRANSFORMERS_VERBOSITY=info` for more details.\n",
            "The following generation flags are not valid and may be ignored: ['temperature']. Set `TRANSFORMERS_VERBOSITY=info` for more details.\n",
            "The following generation flags are not valid and may be ignored: ['temperature']. Set `TRANSFORMERS_VERBOSITY=info` for more details.\n",
            "The following generation flags are not valid and may be ignored: ['temperature']. Set `TRANSFORMERS_VERBOSITY=info` for more details.\n",
            "The following generation flags are not valid and may be ignored: ['temperature']. Set `TRANSFORMERS_VERBOSITY=info` for more details.\n",
            "The following generation flags are not valid and may be ignored: ['temperature']. Set `TRANSFORMERS_VERBOSITY=info` for more details.\n",
            "The following generation flags are not valid and may be ignored: ['temperature']. Set `TRANSFORMERS_VERBOSITY=info` for more details.\n",
            "The following generation flags are not valid and may be ignored: ['temperature']. Set `TRANSFORMERS_VERBOSITY=info` for more details.\n",
            "The following generation flags are not valid and may be ignored: ['temperature']. Set `TRANSFORMERS_VERBOSITY=info` for more details.\n",
            "The following generation flags are not valid and may be ignored: ['temperature']. Set `TRANSFORMERS_VERBOSITY=info` for more details.\n",
            "The following generation flags are not valid and may be ignored: ['temperature']. Set `TRANSFORMERS_VERBOSITY=info` for more details.\n",
            "The following generation flags are not valid and may be ignored: ['temperature']. Set `TRANSFORMERS_VERBOSITY=info` for more details.\n",
            "The following generation flags are not valid and may be ignored: ['temperature']. Set `TRANSFORMERS_VERBOSITY=info` for more details.\n",
            "The following generation flags are not valid and may be ignored: ['temperature']. Set `TRANSFORMERS_VERBOSITY=info` for more details.\n",
            "The following generation flags are not valid and may be ignored: ['temperature']. Set `TRANSFORMERS_VERBOSITY=info` for more details.\n",
            "The following generation flags are not valid and may be ignored: ['temperature']. Set `TRANSFORMERS_VERBOSITY=info` for more details.\n",
            "The following generation flags are not valid and may be ignored: ['temperature']. Set `TRANSFORMERS_VERBOSITY=info` for more details.\n",
            "The following generation flags are not valid and may be ignored: ['temperature']. Set `TRANSFORMERS_VERBOSITY=info` for more details.\n",
            "The following generation flags are not valid and may be ignored: ['temperature']. Set `TRANSFORMERS_VERBOSITY=info` for more details.\n",
            "The following generation flags are not valid and may be ignored: ['temperature']. Set `TRANSFORMERS_VERBOSITY=info` for more details.\n",
            "The following generation flags are not valid and may be ignored: ['temperature']. Set `TRANSFORMERS_VERBOSITY=info` for more details.\n",
            "The following generation flags are not valid and may be ignored: ['temperature']. Set `TRANSFORMERS_VERBOSITY=info` for more details.\n",
            "The following generation flags are not valid and may be ignored: ['temperature']. Set `TRANSFORMERS_VERBOSITY=info` for more details.\n",
            "The following generation flags are not valid and may be ignored: ['temperature']. Set `TRANSFORMERS_VERBOSITY=info` for more details.\n",
            "The following generation flags are not valid and may be ignored: ['temperature']. Set `TRANSFORMERS_VERBOSITY=info` for more details.\n",
            "The following generation flags are not valid and may be ignored: ['temperature']. Set `TRANSFORMERS_VERBOSITY=info` for more details.\n",
            "The following generation flags are not valid and may be ignored: ['temperature']. Set `TRANSFORMERS_VERBOSITY=info` for more details.\n",
            "The following generation flags are not valid and may be ignored: ['temperature']. Set `TRANSFORMERS_VERBOSITY=info` for more details.\n",
            "The following generation flags are not valid and may be ignored: ['temperature']. Set `TRANSFORMERS_VERBOSITY=info` for more details.\n",
            "The following generation flags are not valid and may be ignored: ['temperature']. Set `TRANSFORMERS_VERBOSITY=info` for more details.\n",
            "The following generation flags are not valid and may be ignored: ['temperature']. Set `TRANSFORMERS_VERBOSITY=info` for more details.\n",
            "The following generation flags are not valid and may be ignored: ['temperature']. Set `TRANSFORMERS_VERBOSITY=info` for more details.\n",
            "The following generation flags are not valid and may be ignored: ['temperature']. Set `TRANSFORMERS_VERBOSITY=info` for more details.\n",
            "The following generation flags are not valid and may be ignored: ['temperature']. Set `TRANSFORMERS_VERBOSITY=info` for more details.\n",
            "The following generation flags are not valid and may be ignored: ['temperature']. Set `TRANSFORMERS_VERBOSITY=info` for more details.\n",
            "The following generation flags are not valid and may be ignored: ['temperature']. Set `TRANSFORMERS_VERBOSITY=info` for more details.\n",
            "The following generation flags are not valid and may be ignored: ['temperature']. Set `TRANSFORMERS_VERBOSITY=info` for more details.\n",
            "The following generation flags are not valid and may be ignored: ['temperature']. Set `TRANSFORMERS_VERBOSITY=info` for more details.\n",
            "The following generation flags are not valid and may be ignored: ['temperature']. Set `TRANSFORMERS_VERBOSITY=info` for more details.\n",
            "The following generation flags are not valid and may be ignored: ['temperature']. Set `TRANSFORMERS_VERBOSITY=info` for more details.\n",
            "The following generation flags are not valid and may be ignored: ['temperature']. Set `TRANSFORMERS_VERBOSITY=info` for more details.\n",
            "The following generation flags are not valid and may be ignored: ['temperature']. Set `TRANSFORMERS_VERBOSITY=info` for more details.\n",
            "The following generation flags are not valid and may be ignored: ['temperature']. Set `TRANSFORMERS_VERBOSITY=info` for more details.\n",
            "The following generation flags are not valid and may be ignored: ['temperature']. Set `TRANSFORMERS_VERBOSITY=info` for more details.\n",
            "The following generation flags are not valid and may be ignored: ['temperature']. Set `TRANSFORMERS_VERBOSITY=info` for more details.\n",
            "The following generation flags are not valid and may be ignored: ['temperature']. Set `TRANSFORMERS_VERBOSITY=info` for more details.\n",
            "The following generation flags are not valid and may be ignored: ['temperature']. Set `TRANSFORMERS_VERBOSITY=info` for more details.\n",
            "The following generation flags are not valid and may be ignored: ['temperature']. Set `TRANSFORMERS_VERBOSITY=info` for more details.\n",
            "The following generation flags are not valid and may be ignored: ['temperature']. Set `TRANSFORMERS_VERBOSITY=info` for more details.\n",
            "The following generation flags are not valid and may be ignored: ['temperature']. Set `TRANSFORMERS_VERBOSITY=info` for more details.\n",
            "The following generation flags are not valid and may be ignored: ['temperature']. Set `TRANSFORMERS_VERBOSITY=info` for more details.\n",
            "The following generation flags are not valid and may be ignored: ['temperature']. Set `TRANSFORMERS_VERBOSITY=info` for more details.\n",
            "The following generation flags are not valid and may be ignored: ['temperature']. Set `TRANSFORMERS_VERBOSITY=info` for more details.\n",
            "The following generation flags are not valid and may be ignored: ['temperature']. Set `TRANSFORMERS_VERBOSITY=info` for more details.\n",
            "The following generation flags are not valid and may be ignored: ['temperature']. Set `TRANSFORMERS_VERBOSITY=info` for more details.\n",
            "The following generation flags are not valid and may be ignored: ['temperature']. Set `TRANSFORMERS_VERBOSITY=info` for more details.\n",
            "The following generation flags are not valid and may be ignored: ['temperature']. Set `TRANSFORMERS_VERBOSITY=info` for more details.\n",
            "The following generation flags are not valid and may be ignored: ['temperature']. Set `TRANSFORMERS_VERBOSITY=info` for more details.\n",
            "The following generation flags are not valid and may be ignored: ['temperature']. Set `TRANSFORMERS_VERBOSITY=info` for more details.\n",
            "The following generation flags are not valid and may be ignored: ['temperature']. Set `TRANSFORMERS_VERBOSITY=info` for more details.\n",
            "The following generation flags are not valid and may be ignored: ['temperature']. Set `TRANSFORMERS_VERBOSITY=info` for more details.\n",
            "The following generation flags are not valid and may be ignored: ['temperature']. Set `TRANSFORMERS_VERBOSITY=info` for more details.\n",
            "The following generation flags are not valid and may be ignored: ['temperature']. Set `TRANSFORMERS_VERBOSITY=info` for more details.\n",
            "The following generation flags are not valid and may be ignored: ['temperature']. Set `TRANSFORMERS_VERBOSITY=info` for more details.\n",
            "The following generation flags are not valid and may be ignored: ['temperature']. Set `TRANSFORMERS_VERBOSITY=info` for more details.\n",
            "The following generation flags are not valid and may be ignored: ['temperature']. Set `TRANSFORMERS_VERBOSITY=info` for more details.\n",
            "The following generation flags are not valid and may be ignored: ['temperature']. Set `TRANSFORMERS_VERBOSITY=info` for more details.\n",
            "The following generation flags are not valid and may be ignored: ['temperature']. Set `TRANSFORMERS_VERBOSITY=info` for more details.\n",
            "The following generation flags are not valid and may be ignored: ['temperature']. Set `TRANSFORMERS_VERBOSITY=info` for more details.\n",
            "The following generation flags are not valid and may be ignored: ['temperature']. Set `TRANSFORMERS_VERBOSITY=info` for more details.\n",
            "The following generation flags are not valid and may be ignored: ['temperature']. Set `TRANSFORMERS_VERBOSITY=info` for more details.\n",
            "The following generation flags are not valid and may be ignored: ['temperature']. Set `TRANSFORMERS_VERBOSITY=info` for more details.\n",
            "The following generation flags are not valid and may be ignored: ['temperature']. Set `TRANSFORMERS_VERBOSITY=info` for more details.\n",
            "The following generation flags are not valid and may be ignored: ['temperature']. Set `TRANSFORMERS_VERBOSITY=info` for more details.\n",
            "The following generation flags are not valid and may be ignored: ['temperature']. Set `TRANSFORMERS_VERBOSITY=info` for more details.\n",
            "The following generation flags are not valid and may be ignored: ['temperature']. Set `TRANSFORMERS_VERBOSITY=info` for more details.\n",
            "The following generation flags are not valid and may be ignored: ['temperature']. Set `TRANSFORMERS_VERBOSITY=info` for more details.\n",
            "The following generation flags are not valid and may be ignored: ['temperature']. Set `TRANSFORMERS_VERBOSITY=info` for more details.\n",
            "The following generation flags are not valid and may be ignored: ['temperature']. Set `TRANSFORMERS_VERBOSITY=info` for more details.\n",
            "The following generation flags are not valid and may be ignored: ['temperature']. Set `TRANSFORMERS_VERBOSITY=info` for more details.\n",
            "The following generation flags are not valid and may be ignored: ['temperature']. Set `TRANSFORMERS_VERBOSITY=info` for more details.\n",
            "The following generation flags are not valid and may be ignored: ['temperature']. Set `TRANSFORMERS_VERBOSITY=info` for more details.\n",
            "The following generation flags are not valid and may be ignored: ['temperature']. Set `TRANSFORMERS_VERBOSITY=info` for more details.\n",
            "The following generation flags are not valid and may be ignored: ['temperature']. Set `TRANSFORMERS_VERBOSITY=info` for more details.\n",
            "The following generation flags are not valid and may be ignored: ['temperature']. Set `TRANSFORMERS_VERBOSITY=info` for more details.\n",
            "The following generation flags are not valid and may be ignored: ['temperature']. Set `TRANSFORMERS_VERBOSITY=info` for more details.\n",
            "The following generation flags are not valid and may be ignored: ['temperature']. Set `TRANSFORMERS_VERBOSITY=info` for more details.\n",
            "The following generation flags are not valid and may be ignored: ['temperature']. Set `TRANSFORMERS_VERBOSITY=info` for more details.\n",
            "The following generation flags are not valid and may be ignored: ['temperature']. Set `TRANSFORMERS_VERBOSITY=info` for more details.\n",
            "The following generation flags are not valid and may be ignored: ['temperature']. Set `TRANSFORMERS_VERBOSITY=info` for more details.\n",
            "The following generation flags are not valid and may be ignored: ['temperature']. Set `TRANSFORMERS_VERBOSITY=info` for more details.\n",
            "The following generation flags are not valid and may be ignored: ['temperature']. Set `TRANSFORMERS_VERBOSITY=info` for more details.\n",
            "The following generation flags are not valid and may be ignored: ['temperature']. Set `TRANSFORMERS_VERBOSITY=info` for more details.\n",
            "The following generation flags are not valid and may be ignored: ['temperature']. Set `TRANSFORMERS_VERBOSITY=info` for more details.\n",
            "The following generation flags are not valid and may be ignored: ['temperature']. Set `TRANSFORMERS_VERBOSITY=info` for more details.\n",
            "The following generation flags are not valid and may be ignored: ['temperature']. Set `TRANSFORMERS_VERBOSITY=info` for more details.\n",
            "The following generation flags are not valid and may be ignored: ['temperature']. Set `TRANSFORMERS_VERBOSITY=info` for more details.\n",
            "The following generation flags are not valid and may be ignored: ['temperature']. Set `TRANSFORMERS_VERBOSITY=info` for more details.\n",
            "The following generation flags are not valid and may be ignored: ['temperature']. Set `TRANSFORMERS_VERBOSITY=info` for more details.\n",
            "The following generation flags are not valid and may be ignored: ['temperature']. Set `TRANSFORMERS_VERBOSITY=info` for more details.\n",
            "The following generation flags are not valid and may be ignored: ['temperature']. Set `TRANSFORMERS_VERBOSITY=info` for more details.\n",
            "The following generation flags are not valid and may be ignored: ['temperature']. Set `TRANSFORMERS_VERBOSITY=info` for more details.\n",
            "The following generation flags are not valid and may be ignored: ['temperature']. Set `TRANSFORMERS_VERBOSITY=info` for more details.\n",
            "The following generation flags are not valid and may be ignored: ['temperature']. Set `TRANSFORMERS_VERBOSITY=info` for more details.\n",
            "The following generation flags are not valid and may be ignored: ['temperature']. Set `TRANSFORMERS_VERBOSITY=info` for more details.\n",
            "The following generation flags are not valid and may be ignored: ['temperature']. Set `TRANSFORMERS_VERBOSITY=info` for more details.\n",
            "The following generation flags are not valid and may be ignored: ['temperature']. Set `TRANSFORMERS_VERBOSITY=info` for more details.\n",
            "The following generation flags are not valid and may be ignored: ['temperature']. Set `TRANSFORMERS_VERBOSITY=info` for more details.\n",
            "The following generation flags are not valid and may be ignored: ['temperature']. Set `TRANSFORMERS_VERBOSITY=info` for more details.\n",
            "The following generation flags are not valid and may be ignored: ['temperature']. Set `TRANSFORMERS_VERBOSITY=info` for more details.\n",
            "The following generation flags are not valid and may be ignored: ['temperature']. Set `TRANSFORMERS_VERBOSITY=info` for more details.\n",
            "The following generation flags are not valid and may be ignored: ['temperature']. Set `TRANSFORMERS_VERBOSITY=info` for more details.\n",
            "The following generation flags are not valid and may be ignored: ['temperature']. Set `TRANSFORMERS_VERBOSITY=info` for more details.\n",
            "The following generation flags are not valid and may be ignored: ['temperature']. Set `TRANSFORMERS_VERBOSITY=info` for more details.\n",
            "The following generation flags are not valid and may be ignored: ['temperature']. Set `TRANSFORMERS_VERBOSITY=info` for more details.\n",
            "The following generation flags are not valid and may be ignored: ['temperature']. Set `TRANSFORMERS_VERBOSITY=info` for more details.\n",
            "The following generation flags are not valid and may be ignored: ['temperature']. Set `TRANSFORMERS_VERBOSITY=info` for more details.\n",
            "The following generation flags are not valid and may be ignored: ['temperature']. Set `TRANSFORMERS_VERBOSITY=info` for more details.\n",
            "The following generation flags are not valid and may be ignored: ['temperature']. Set `TRANSFORMERS_VERBOSITY=info` for more details.\n",
            "The following generation flags are not valid and may be ignored: ['temperature']. Set `TRANSFORMERS_VERBOSITY=info` for more details.\n",
            "The following generation flags are not valid and may be ignored: ['temperature']. Set `TRANSFORMERS_VERBOSITY=info` for more details.\n",
            "The following generation flags are not valid and may be ignored: ['temperature']. Set `TRANSFORMERS_VERBOSITY=info` for more details.\n",
            "The following generation flags are not valid and may be ignored: ['temperature']. Set `TRANSFORMERS_VERBOSITY=info` for more details.\n",
            "The following generation flags are not valid and may be ignored: ['temperature']. Set `TRANSFORMERS_VERBOSITY=info` for more details.\n",
            "The following generation flags are not valid and may be ignored: ['temperature']. Set `TRANSFORMERS_VERBOSITY=info` for more details.\n",
            "The following generation flags are not valid and may be ignored: ['temperature']. Set `TRANSFORMERS_VERBOSITY=info` for more details.\n",
            "The following generation flags are not valid and may be ignored: ['temperature']. Set `TRANSFORMERS_VERBOSITY=info` for more details.\n",
            "The following generation flags are not valid and may be ignored: ['temperature']. Set `TRANSFORMERS_VERBOSITY=info` for more details.\n",
            "The following generation flags are not valid and may be ignored: ['temperature']. Set `TRANSFORMERS_VERBOSITY=info` for more details.\n",
            "The following generation flags are not valid and may be ignored: ['temperature']. Set `TRANSFORMERS_VERBOSITY=info` for more details.\n",
            "The following generation flags are not valid and may be ignored: ['temperature']. Set `TRANSFORMERS_VERBOSITY=info` for more details.\n",
            "The following generation flags are not valid and may be ignored: ['temperature']. Set `TRANSFORMERS_VERBOSITY=info` for more details.\n",
            "The following generation flags are not valid and may be ignored: ['temperature']. Set `TRANSFORMERS_VERBOSITY=info` for more details.\n",
            "The following generation flags are not valid and may be ignored: ['temperature']. Set `TRANSFORMERS_VERBOSITY=info` for more details.\n",
            "The following generation flags are not valid and may be ignored: ['temperature']. Set `TRANSFORMERS_VERBOSITY=info` for more details.\n",
            "The following generation flags are not valid and may be ignored: ['temperature']. Set `TRANSFORMERS_VERBOSITY=info` for more details.\n",
            "The following generation flags are not valid and may be ignored: ['temperature']. Set `TRANSFORMERS_VERBOSITY=info` for more details.\n",
            "The following generation flags are not valid and may be ignored: ['temperature']. Set `TRANSFORMERS_VERBOSITY=info` for more details.\n",
            "The following generation flags are not valid and may be ignored: ['temperature']. Set `TRANSFORMERS_VERBOSITY=info` for more details.\n",
            "The following generation flags are not valid and may be ignored: ['temperature']. Set `TRANSFORMERS_VERBOSITY=info` for more details.\n",
            "The following generation flags are not valid and may be ignored: ['temperature']. Set `TRANSFORMERS_VERBOSITY=info` for more details.\n",
            "The following generation flags are not valid and may be ignored: ['temperature']. Set `TRANSFORMERS_VERBOSITY=info` for more details.\n",
            "The following generation flags are not valid and may be ignored: ['temperature']. Set `TRANSFORMERS_VERBOSITY=info` for more details.\n",
            "The following generation flags are not valid and may be ignored: ['temperature']. Set `TRANSFORMERS_VERBOSITY=info` for more details.\n",
            "The following generation flags are not valid and may be ignored: ['temperature']. Set `TRANSFORMERS_VERBOSITY=info` for more details.\n",
            "The following generation flags are not valid and may be ignored: ['temperature']. Set `TRANSFORMERS_VERBOSITY=info` for more details.\n",
            "The following generation flags are not valid and may be ignored: ['temperature']. Set `TRANSFORMERS_VERBOSITY=info` for more details.\n",
            "The following generation flags are not valid and may be ignored: ['temperature']. Set `TRANSFORMERS_VERBOSITY=info` for more details.\n",
            "The following generation flags are not valid and may be ignored: ['temperature']. Set `TRANSFORMERS_VERBOSITY=info` for more details.\n",
            "The following generation flags are not valid and may be ignored: ['temperature']. Set `TRANSFORMERS_VERBOSITY=info` for more details.\n",
            "The following generation flags are not valid and may be ignored: ['temperature']. Set `TRANSFORMERS_VERBOSITY=info` for more details.\n",
            "The following generation flags are not valid and may be ignored: ['temperature']. Set `TRANSFORMERS_VERBOSITY=info` for more details.\n",
            "The following generation flags are not valid and may be ignored: ['temperature']. Set `TRANSFORMERS_VERBOSITY=info` for more details.\n",
            "The following generation flags are not valid and may be ignored: ['temperature']. Set `TRANSFORMERS_VERBOSITY=info` for more details.\n",
            "The following generation flags are not valid and may be ignored: ['temperature']. Set `TRANSFORMERS_VERBOSITY=info` for more details.\n",
            "The following generation flags are not valid and may be ignored: ['temperature']. Set `TRANSFORMERS_VERBOSITY=info` for more details.\n",
            "The following generation flags are not valid and may be ignored: ['temperature']. Set `TRANSFORMERS_VERBOSITY=info` for more details.\n",
            "The following generation flags are not valid and may be ignored: ['temperature']. Set `TRANSFORMERS_VERBOSITY=info` for more details.\n",
            "The following generation flags are not valid and may be ignored: ['temperature']. Set `TRANSFORMERS_VERBOSITY=info` for more details.\n",
            "The following generation flags are not valid and may be ignored: ['temperature']. Set `TRANSFORMERS_VERBOSITY=info` for more details.\n",
            "The following generation flags are not valid and may be ignored: ['temperature']. Set `TRANSFORMERS_VERBOSITY=info` for more details.\n",
            "The following generation flags are not valid and may be ignored: ['temperature']. Set `TRANSFORMERS_VERBOSITY=info` for more details.\n",
            "The following generation flags are not valid and may be ignored: ['temperature']. Set `TRANSFORMERS_VERBOSITY=info` for more details.\n",
            "The following generation flags are not valid and may be ignored: ['temperature']. Set `TRANSFORMERS_VERBOSITY=info` for more details.\n",
            "The following generation flags are not valid and may be ignored: ['temperature']. Set `TRANSFORMERS_VERBOSITY=info` for more details.\n",
            "The following generation flags are not valid and may be ignored: ['temperature']. Set `TRANSFORMERS_VERBOSITY=info` for more details.\n",
            "The following generation flags are not valid and may be ignored: ['temperature']. Set `TRANSFORMERS_VERBOSITY=info` for more details.\n",
            "The following generation flags are not valid and may be ignored: ['temperature']. Set `TRANSFORMERS_VERBOSITY=info` for more details.\n",
            "The following generation flags are not valid and may be ignored: ['temperature']. Set `TRANSFORMERS_VERBOSITY=info` for more details.\n",
            "The following generation flags are not valid and may be ignored: ['temperature']. Set `TRANSFORMERS_VERBOSITY=info` for more details.\n",
            "The following generation flags are not valid and may be ignored: ['temperature']. Set `TRANSFORMERS_VERBOSITY=info` for more details.\n",
            "The following generation flags are not valid and may be ignored: ['temperature']. Set `TRANSFORMERS_VERBOSITY=info` for more details.\n",
            "The following generation flags are not valid and may be ignored: ['temperature']. Set `TRANSFORMERS_VERBOSITY=info` for more details.\n",
            "The following generation flags are not valid and may be ignored: ['temperature']. Set `TRANSFORMERS_VERBOSITY=info` for more details.\n",
            "The following generation flags are not valid and may be ignored: ['temperature']. Set `TRANSFORMERS_VERBOSITY=info` for more details.\n",
            "The following generation flags are not valid and may be ignored: ['temperature']. Set `TRANSFORMERS_VERBOSITY=info` for more details.\n",
            "The following generation flags are not valid and may be ignored: ['temperature']. Set `TRANSFORMERS_VERBOSITY=info` for more details.\n",
            "The following generation flags are not valid and may be ignored: ['temperature']. Set `TRANSFORMERS_VERBOSITY=info` for more details.\n",
            "The following generation flags are not valid and may be ignored: ['temperature']. Set `TRANSFORMERS_VERBOSITY=info` for more details.\n",
            "The following generation flags are not valid and may be ignored: ['temperature']. Set `TRANSFORMERS_VERBOSITY=info` for more details.\n",
            "The following generation flags are not valid and may be ignored: ['temperature']. Set `TRANSFORMERS_VERBOSITY=info` for more details.\n",
            "The following generation flags are not valid and may be ignored: ['temperature']. Set `TRANSFORMERS_VERBOSITY=info` for more details.\n",
            "The following generation flags are not valid and may be ignored: ['temperature']. Set `TRANSFORMERS_VERBOSITY=info` for more details.\n",
            "The following generation flags are not valid and may be ignored: ['temperature']. Set `TRANSFORMERS_VERBOSITY=info` for more details.\n",
            "The following generation flags are not valid and may be ignored: ['temperature']. Set `TRANSFORMERS_VERBOSITY=info` for more details.\n",
            "The following generation flags are not valid and may be ignored: ['temperature']. Set `TRANSFORMERS_VERBOSITY=info` for more details.\n",
            "The following generation flags are not valid and may be ignored: ['temperature']. Set `TRANSFORMERS_VERBOSITY=info` for more details.\n",
            "The following generation flags are not valid and may be ignored: ['temperature']. Set `TRANSFORMERS_VERBOSITY=info` for more details.\n"
          ]
        }
      ]
    },
    {
      "cell_type": "markdown",
      "source": [
        "## Definimos las metricas"
      ],
      "metadata": {
        "id": "d6Zybtt_gXut"
      }
    },
    {
      "cell_type": "code",
      "source": [
        "import numpy as np\n",
        "\n",
        "from itertools import combinations\n",
        "\n",
        "def jaccard_similarity(genres_i, genres_j):\n",
        "    intersection = len(genres_i.intersection(genres_j))\n",
        "    union = len(genres_i.union(genres_j))\n",
        "    if union == 0:\n",
        "        return 0.0\n",
        "    return intersection / union\n",
        "\n",
        "def intra_list_diversity_at_k(movies_rec, movies_genres, k):  # mientras más cercano a 1 es más diversa la recomendación\n",
        "\n",
        "    n = len(movies_rec)\n",
        "    if k < 2:\n",
        "        return 0.0  # No diversity with <2 items\n",
        "    if k > n:\n",
        "        k = n\n",
        "\n",
        "    items_top_k = movies_rec[:k]\n",
        "    df_peliculas_recomendadas = movies_genres.loc[np.isin(movies_genres.title, items_top_k)] # se usan los generos para calcular la intra list diversity\n",
        "    mov_genres = list()\n",
        "    if len(df_peliculas_recomendadas) < len(items_top_k): # si no encontramos los generos de una pelicula, entonces asumimos que es un set vacio\n",
        "      for i in range(len(items_top_k)-len(df_peliculas_recomendadas)):\n",
        "        mov_genres.append(set())\n",
        "\n",
        "    for ind in df_peliculas_recomendadas.index:\n",
        "      genre = df_peliculas_recomendadas.loc[ind,'genres']\n",
        "      genre = genre.split('|')\n",
        "      genre = set(genre)\n",
        "      mov_genres.append(genre)\n",
        "\n",
        "    total_dissimilarity = 0\n",
        "    pairs = 0\n",
        "\n",
        "    for i, j in combinations(range(k), 2):\n",
        "        sim = jaccard_similarity(mov_genres[i], mov_genres[j])\n",
        "        dissim = 1 - sim\n",
        "        total_dissimilarity += dissim\n",
        "        pairs += 1\n",
        "\n",
        "    return total_dissimilarity / pairs\n",
        "\n",
        "\n",
        "def recall_at_k(r, k, n_relevant_items):\n",
        "  recal = np.count_nonzero(np.asarray(r[:k]))/n_relevant_items\n",
        "  return recal\n",
        "\n",
        "\n",
        "\n",
        "def precision_at_k(r, k):\n",
        "    #assert 1 <= k <= r.size\n",
        "    return (np.asarray(r)[:k] != 0).mean()\n",
        "\n",
        "def dcg_at_k(r, k):\n",
        "    r = np.asarray(r)[:k]\n",
        "    if r.size:\n",
        "        return np.sum(np.subtract(np.power(2, r), 1) / np.log2(np.arange(2, r.size + 2)))\n",
        "    return 0.\n",
        "\n",
        "\n",
        "def ndcg_at_k(r, k):\n",
        "    idcg = dcg_at_k(sorted(r, reverse=True), k)\n",
        "\n",
        "    if not idcg:\n",
        "        return 0.\n",
        "    return dcg_at_k(r, k) / idcg\n",
        "\n",
        "\n",
        "def novelty_at_k(y_pred, k):\n",
        "    \"\"\"\n",
        "    Para cada título en top-k, calcula -log2(P(title)) donde P(title) = freq_liked(title) / total_usuarios.\n",
        "    Luego promedia sobre k.\n",
        "    \"\"\"\n",
        "    pred_k = y_pred[:k]\n",
        "    nov_vals = []\n",
        "    median_pop = 0\n",
        "    for movie in movie_popularity:\n",
        "      median_pop += movie_popularity[movie]\n",
        "    median_pop = median_pop/9516\n",
        "    movies_names = list(movie_popularity.keys())\n",
        "    movies_in_df = set()\n",
        "    for pred_movies in pred_k:\n",
        "      for movie_df in movies_names:\n",
        "        if pred_movies in movie_df:\n",
        "          movies_in_df.add(movie_df)\n",
        "    for t in list(movies_in_df):\n",
        "        p = movie_popularity.get(t, median_pop)\n",
        "        nov_vals.append(-np.log2(p +1e-9))\n",
        "    return sum(nov_vals) / (len(nov_vals)+1)"
      ],
      "metadata": {
        "id": "b9HKfERbDsJ7"
      },
      "execution_count": 15,
      "outputs": []
    },
    {
      "cell_type": "markdown",
      "source": [
        "## Definimos la función para evaluar el modelo"
      ],
      "metadata": {
        "id": "1gpcXY8jmS30"
      }
    },
    {
      "cell_type": "code",
      "source": [
        "def evaluate_model(recommendations_dict, validation_dict, k):\n",
        "  mean_precision = 0.\n",
        "  mean_ndcg = 0.\n",
        "  mean_recall = 0.\n",
        "  mean_novelty = 0.\n",
        "  mean_diversity = 0.\n",
        "  max_presicion = -float(\"Inf\")\n",
        "  user_max = \"\"\n",
        "  for user in recommendations_dict:\n",
        "    lista_recomendaciones = recommendations_dict[user]\n",
        "    lista_recomendaciones = lista_recomendaciones[0].lower().strip().splitlines()\n",
        "    lista_validacion = validation_dict[user]\n",
        "    lista_validacion = [k.lower() for k in lista_validacion]\n",
        "    n_important_items = len(lista_validacion)\n",
        "    for j in range(len(lista_recomendaciones)):\n",
        "      match1 = re.match(r'^\\d+\\.\\s+(.*)', lista_recomendaciones[j])\n",
        "      if not match1:\n",
        "        continue\n",
        "      title = match1.group(1)\n",
        "      title = re.sub(r\"\\s*\\([^)]*\\)\", \"\", title)\n",
        "      lista_recomendaciones[j] = title\n",
        "    rel_vector = np.isin(lista_recomendaciones, lista_validacion, assume_unique=True).astype(int)\n",
        "    if precision_at_k(rel_vector, k) > max_presicion:\n",
        "      max_presicion = precision_at_k(rel_vector, k)\n",
        "      user_max = user\n",
        "    mean_precision += precision_at_k(rel_vector, k)\n",
        "    mean_ndcg += ndcg_at_k(rel_vector, k)\n",
        "    mean_recall += recall_at_k(rel_vector,k, len(lista_validacion))\n",
        "    mean_novelty += novelty_at_k(lista_recomendaciones,k)\n",
        "    mean_diversity += intra_list_diversity_at_k(lista_recomendaciones, genres_df, k)\n",
        "\n",
        "  mean_precision /= len(recommendations_dict)\n",
        "  mean_ndcg /= len(recommendations_dict)\n",
        "  mean_recall /= len(recommendations_dict)\n",
        "  mean_novelty /= len(recommendations_dict)\n",
        "  mean_diversity /= len(recommendations_dict)\n",
        "  return mean_precision, mean_ndcg, mean_recall, mean_novelty, mean_diversity, user_max"
      ],
      "metadata": {
        "id": "y0z6LpvhxxE2"
      },
      "execution_count": 16,
      "outputs": []
    },
    {
      "cell_type": "markdown",
      "source": [
        "## Obtenemos las recomendaciones si es que corrimos el modelo"
      ],
      "metadata": {
        "id": "uNsyuXpdmWJi"
      }
    },
    {
      "cell_type": "code",
      "source": [
        "llm_recommendations = read_json('./drive/MyDrive/llm_recommend.json')"
      ],
      "metadata": {
        "id": "ORaVgA7dShf3"
      },
      "execution_count": null,
      "outputs": []
    },
    {
      "cell_type": "markdown",
      "source": [
        "## Obtenemos las recomendaciones si es usamos las recomendaciones de la nube"
      ],
      "metadata": {
        "id": "T9fJlqXombnP"
      }
    },
    {
      "cell_type": "code",
      "source": [
        "llm_recommendations = read_json('llm_recommend_phi-4.json')"
      ],
      "metadata": {
        "id": "ASBmRSmZJJqR"
      },
      "execution_count": 17,
      "outputs": []
    },
    {
      "cell_type": "markdown",
      "source": [
        "## Obtenemos las recomendaciones de testeo"
      ],
      "metadata": {
        "id": "jt8XVluMmh8N"
      }
    },
    {
      "cell_type": "code",
      "source": [
        "val_recommendations = read_json('./val_recommendation.json')"
      ],
      "metadata": {
        "id": "1o609npAwGJw"
      },
      "execution_count": 18,
      "outputs": []
    },
    {
      "cell_type": "code",
      "source": [
        "print(len(llm_recommendations),len(llm_recommendations[\"zero_shot\"]), len(llm_recommendations[\"few_shot\"]),len(llm_recommendations[\"cot\"]))"
      ],
      "metadata": {
        "colab": {
          "base_uri": "https://localhost:8080/"
        },
        "id": "-FDh7ct220wD",
        "outputId": "d41458c9-a662-47f9-b54c-106a9da29c0a"
      },
      "execution_count": 19,
      "outputs": [
        {
          "output_type": "stream",
          "name": "stdout",
          "text": [
            "3 100 100 100\n"
          ]
        }
      ]
    },
    {
      "cell_type": "code",
      "source": [
        "presicion,ndcg, recall, novelty, diversity, user_m = evaluate_model(llm_recommendations[\"few_shot\"], val_recommendations, 20)"
      ],
      "metadata": {
        "id": "NvJrdr2H9vKn"
      },
      "execution_count": 20,
      "outputs": []
    },
    {
      "cell_type": "code",
      "source": [
        "print(val_recommendations[user_m], llm_recommendations[\"few_shot\"][user_m])"
      ],
      "metadata": {
        "colab": {
          "base_uri": "https://localhost:8080/"
        },
        "id": "zWCMNULUKpKw",
        "outputId": "f312b183-de04-448b-ba6b-1c57d62aad87"
      },
      "execution_count": null,
      "outputs": [
        {
          "output_type": "stream",
          "name": "stdout",
          "text": [
            "['the lord of the rings: the return of the king', 'girl with a pearl earring', 'collateral'] [\"1. Inception\\n2. The Dark Knight\\n3. Pulp Fiction\\n4. Fight Club\\n5. The Matrix\\n6. The Shawshank Redemption\\n7. Goodfellas\\n8. The Silence of the Lambs\\n9. Schindler's List\\n10. Saving Private Ryan\\n11. Amélie\\n12. Spirited Away\\n13. The Lord of the Rings: The Return of the King\\n14. The Green Mile\\n15. The Usual Suspects\\n16. The Lives of Others\\n17. The Pianist\\n18. The English Patient\\n19. Life is Beautiful\\n20. The Talented Mr. Ripley\\n\\nThese movies are a mix of different genres, but they are all critically acclaimed and have received positive reviews from audiences. I hope you enjoy watching them!\"]\n"
          ]
        }
      ]
    },
    {
      "cell_type": "markdown",
      "source": [
        "## Ejemplo de una recomendacion a un usuario en particular"
      ],
      "metadata": {
        "id": "Z7vnT-96mqP8"
      }
    },
    {
      "cell_type": "code",
      "source": [
        "print(f\"Recomedaciones groudn truth para User {user_m}\")\n",
        "print()\n",
        "for i in val_recommendations[user_m]:\n",
        "  print(i)\n",
        "print()\n",
        "print(f\"Recomedaciones phi-4 para User {user_m}\")\n",
        "r = llm_recommendations[\"few_shot\"][user_m]\n",
        "print(r[0].lower())"
      ],
      "metadata": {
        "colab": {
          "base_uri": "https://localhost:8080/"
        },
        "id": "DFZQagCZLGS0",
        "outputId": "8dcb48c7-49bd-4002-b3c1-614a718b176e"
      },
      "execution_count": 21,
      "outputs": [
        {
          "output_type": "stream",
          "name": "stdout",
          "text": [
            "Recomedaciones groudn truth para User A2NBOL825B93OM\n",
            "\n",
            "the lord of the rings: the return of the king\n",
            "girl with a pearl earring\n",
            "collateral\n",
            "\n",
            "Recomedaciones phi-4 para User A2NBOL825B93OM\n",
            "1. inception\n",
            "2. the dark knight\n",
            "3. pulp fiction\n",
            "4. fight club\n",
            "5. the matrix\n",
            "6. the shawshank redemption\n",
            "7. goodfellas\n",
            "8. the silence of the lambs\n",
            "9. schindler's list\n",
            "10. saving private ryan\n",
            "11. amélie\n",
            "12. spirited away\n",
            "13. the lord of the rings: the return of the king\n",
            "14. the green mile\n",
            "15. the usual suspects\n",
            "16. the lives of others\n",
            "17. the pianist\n",
            "18. the english patient\n",
            "19. life is beautiful\n",
            "20. the talented mr. ripley\n",
            "\n",
            "these movies are a mix of different genres, but they are all critically acclaimed and have received positive reviews from audiences. i hope you enjoy watching them!\n"
          ]
        }
      ]
    },
    {
      "cell_type": "code",
      "source": [
        "print(presicion,ndcg, recall, novelty, diversity)"
      ],
      "metadata": {
        "colab": {
          "base_uri": "https://localhost:8080/"
        },
        "id": "Q1kky6pJmFEr",
        "outputId": "06a44ddc-b496-4c17-e499-ae9587cf9f78"
      },
      "execution_count": 22,
      "outputs": [
        {
          "output_type": "stream",
          "name": "stdout",
          "text": [
            "0.001 0.0057811441182292235 0.0047619047619047615 6.770755240495821 0.8882559106098579\n"
          ]
        }
      ]
    },
    {
      "cell_type": "markdown",
      "source": [
        "## Evaluamos el modelo para los valores de k = {10, 15, 20}"
      ],
      "metadata": {
        "id": "HsiQ0fyAmuyo"
      }
    },
    {
      "cell_type": "code",
      "source": [
        "k_values = [10, 15, 20]\n",
        "for tecnica in llm_recommendations:\n",
        "  print(f\"Tecnica: {tecnica}\")\n",
        "  print(\"----------------------------------------------\")\n",
        "  print()\n",
        "  for k in k_values:\n",
        "    print(f\"K value = {k}\")\n",
        "    print()\n",
        "    presicion, ndcg, recall, novelty, diversity, _= evaluate_model(llm_recommendations[tecnica], val_recommendations, k)\n",
        "    print(f\"Presicion@{k} = {presicion}\")\n",
        "    print(f\"NDCG@{k} = {ndcg}\")\n",
        "    print(f\"Recall@{k} = {recall}\")\n",
        "    print(f\"Novelty@{k} = {novelty}\")\n",
        "    print(f\"Diversity@{k} = {diversity}\")\n",
        "    print()\n",
        "  print(\"----------------------------------------------\")\n",
        "  print()"
      ],
      "metadata": {
        "colab": {
          "base_uri": "https://localhost:8080/"
        },
        "id": "TIiny6xxAz0g",
        "outputId": "2d0a23ff-ec5a-40b8-d175-fdbe85f4515b"
      },
      "execution_count": 23,
      "outputs": [
        {
          "output_type": "stream",
          "name": "stdout",
          "text": [
            "Tecnica: zero_shot\n",
            "----------------------------------------------\n",
            "\n",
            "K value = 10\n",
            "\n",
            "Presicion@10 = 0.001\n",
            "NDCG@10 = 0.002890648263178879\n",
            "Recall@10 = 0.003333333333333333\n",
            "Novelty@10 = 6.290983804780642\n",
            "Diversity@10 = 0.8932517636684308\n",
            "\n",
            "K value = 15\n",
            "\n",
            "Presicion@15 = 0.0006666666666666666\n",
            "NDCG@15 = 0.002890648263178879\n",
            "Recall@15 = 0.003333333333333333\n",
            "Novelty@15 = 6.464725845729426\n",
            "Diversity@15 = 0.9077982993197276\n",
            "\n",
            "K value = 20\n",
            "\n",
            "Presicion@20 = 0.001\n",
            "NDCG@20 = 0.005244737396845262\n",
            "Recall@20 = 0.006666666666666666\n",
            "Novelty@20 = 6.510442324134007\n",
            "Diversity@20 = 0.9237301169590646\n",
            "\n",
            "----------------------------------------------\n",
            "\n",
            "Tecnica: few_shot\n",
            "----------------------------------------------\n",
            "\n",
            "K value = 10\n",
            "\n",
            "Presicion@10 = 0.001\n",
            "NDCG@10 = 0.0031546487678572877\n",
            "Recall@10 = 0.0014285714285714286\n",
            "Novelty@10 = 6.382490271561579\n",
            "Diversity@10 = 0.8614103174603174\n",
            "\n",
            "K value = 15\n",
            "\n",
            "Presicion@15 = 0.0013333333333333333\n",
            "NDCG@15 = 0.0057811441182292235\n",
            "Recall@15 = 0.0047619047619047615\n",
            "Novelty@15 = 6.706704653355143\n",
            "Diversity@15 = 0.870240929705215\n",
            "\n",
            "K value = 20\n",
            "\n",
            "Presicion@20 = 0.001\n",
            "NDCG@20 = 0.0057811441182292235\n",
            "Recall@20 = 0.0047619047619047615\n",
            "Novelty@20 = 6.770755240495821\n",
            "Diversity@20 = 0.8882559106098579\n",
            "\n",
            "----------------------------------------------\n",
            "\n",
            "Tecnica: cot\n",
            "----------------------------------------------\n",
            "\n",
            "K value = 10\n",
            "\n",
            "Presicion@10 = 0.001\n",
            "NDCG@10 = 0.01\n",
            "Recall@10 = 0.003333333333333333\n",
            "Novelty@10 = 6.109929319802095\n",
            "Diversity@10 = 0.8949113756613759\n",
            "\n",
            "K value = 15\n",
            "\n",
            "Presicion@15 = 0.0006666666666666666\n",
            "NDCG@15 = 0.01\n",
            "Recall@15 = 0.003333333333333333\n",
            "Novelty@15 = 6.224103910928052\n",
            "Diversity@15 = 0.9102857898715041\n",
            "\n",
            "K value = 20\n",
            "\n",
            "Presicion@20 = 0.0005\n",
            "NDCG@20 = 0.01\n",
            "Recall@20 = 0.003333333333333333\n",
            "Novelty@20 = 6.306653388370883\n",
            "Diversity@20 = 0.9296330618212199\n",
            "\n",
            "----------------------------------------------\n",
            "\n"
          ]
        }
      ]
    },
    {
      "cell_type": "code",
      "source": [
        "k_values = [10, 15, 20]\n",
        "zero_shot = []\n",
        "few_shot = []\n",
        "cot_shot = []\n",
        "for tecnica in llm_recommendations:\n",
        "  for k in k_values:\n",
        "    presicion, ndcg, recall, novelty, diversity, _= evaluate_model(llm_recommendations[tecnica], val_recommendations, k)\n",
        "    if tecnica == \"zero_shot\":\n",
        "      zero_shot.append([presicion, ndcg, recall, novelty, diversity])\n",
        "    elif tecnica == \"few_shot\":\n",
        "      few_shot.append([presicion, ndcg, recall, novelty, diversity])\n",
        "    else:\n",
        "      cot_shot.append([presicion, ndcg, recall, novelty, diversity])"
      ],
      "metadata": {
        "id": "ibAFj39F5lc_"
      },
      "execution_count": 25,
      "outputs": []
    },
    {
      "cell_type": "code",
      "source": [
        "print(zero_shot)\n",
        "print(few_shot)\n",
        "print(cot_shot)"
      ],
      "metadata": {
        "colab": {
          "base_uri": "https://localhost:8080/"
        },
        "id": "rmGygnF88FXS",
        "outputId": "5e5c0db4-16a8-46ca-977e-66a6a52d4ccf"
      },
      "execution_count": 26,
      "outputs": [
        {
          "output_type": "stream",
          "name": "stdout",
          "text": [
            "[[np.float64(0.001), np.float64(0.002890648263178879), 0.003333333333333333, np.float64(6.290983804780642), 0.8932517636684308], [np.float64(0.0006666666666666666), np.float64(0.002890648263178879), 0.003333333333333333, np.float64(6.464725845729426), 0.9077982993197276], [np.float64(0.001), np.float64(0.005244737396845262), 0.006666666666666666, np.float64(6.510442324134007), 0.9237301169590646]]\n",
            "[[np.float64(0.001), np.float64(0.0031546487678572877), 0.0014285714285714286, np.float64(6.382490271561579), 0.8614103174603174], [np.float64(0.0013333333333333333), np.float64(0.0057811441182292235), 0.0047619047619047615, np.float64(6.706704653355143), 0.870240929705215], [np.float64(0.001), np.float64(0.0057811441182292235), 0.0047619047619047615, np.float64(6.770755240495821), 0.8882559106098579]]\n",
            "[[np.float64(0.001), np.float64(0.01), 0.003333333333333333, np.float64(6.109929319802095), 0.8949113756613759], [np.float64(0.0006666666666666666), np.float64(0.01), 0.003333333333333333, np.float64(6.224103910928052), 0.9102857898715041], [np.float64(0.0005), np.float64(0.01), 0.003333333333333333, np.float64(6.306653388370883), 0.9296330618212199]]\n"
          ]
        }
      ]
    },
    {
      "cell_type": "code",
      "source": [
        "import matplotlib.pyplot as plt\n"
      ],
      "metadata": {
        "id": "fvf_1GER6Qqj"
      },
      "execution_count": 24,
      "outputs": []
    },
    {
      "cell_type": "markdown",
      "source": [
        "## presicion"
      ],
      "metadata": {
        "id": "Panwe-zV8rVz"
      }
    },
    {
      "cell_type": "code",
      "source": [
        "plt.figure()\n",
        "plt.plot([10, 15, 20], np.array(zero_shot)[:, 0],'b', label=\"zero_shot\")\n",
        "plt.plot([10, 15, 20], np.array(few_shot)[:, 0],'r', label=\"few_shot\")\n",
        "plt.plot([10, 15, 20], np.array(cot_shot)[:, 0],'g', label=\"cot\")\n",
        "plt.legend()\n",
        "plt.xlabel('k elements')\n",
        "plt.ylabel('presicion')\n",
        "plt.tight_layout()\n",
        "plt.show()"
      ],
      "metadata": {
        "colab": {
          "base_uri": "https://localhost:8080/",
          "height": 487
        },
        "id": "eijZSvuo5q9u",
        "outputId": "35af43de-ff08-4814-fe80-56f2e93a763e"
      },
      "execution_count": 27,
      "outputs": [
        {
          "output_type": "display_data",
          "data": {
            "text/plain": [
              "<Figure size 640x480 with 1 Axes>"
            ],
            "image/png": "[encoded data removed]"
          },
          "metadata": {}
        }
      ]
    },
    {
      "cell_type": "markdown",
      "source": [
        "## NDCG"
      ],
      "metadata": {
        "id": "QZcM3X6T9git"
      }
    },
    {
      "cell_type": "code",
      "source": [
        "plt.figure()\n",
        "plt.plot([10, 15, 20], np.array(zero_shot)[:, 1],'b', label=\"zero_shot\")\n",
        "plt.plot([10, 15, 20], np.array(few_shot)[:, 1],'r', label=\"few_shot\")\n",
        "plt.plot([10, 15, 20], np.array(cot_shot)[:, 1],'g', label=\"cot\")\n",
        "plt.legend()\n",
        "plt.xlabel('k elements')\n",
        "plt.ylabel('NDCG')\n",
        "plt.tight_layout()\n",
        "plt.show()"
      ],
      "metadata": {
        "colab": {
          "base_uri": "https://localhost:8080/",
          "height": 487
        },
        "id": "jzJ9E5MZ9gIW",
        "outputId": "35447d22-7910-4259-82dc-2167799ac661"
      },
      "execution_count": 28,
      "outputs": [
        {
          "output_type": "display_data",
          "data": {
            "text/plain": [
              "<Figure size 640x480 with 1 Axes>"
            ],
            "image/png": "[encoded data removed]"
          },
          "metadata": {}
        }
      ]
    },
    {
      "cell_type": "markdown",
      "source": [
        "## recall"
      ],
      "metadata": {
        "id": "tTFyreo99uRt"
      }
    },
    {
      "cell_type": "code",
      "source": [
        "plt.figure()\n",
        "plt.plot([10, 15, 20], np.array(zero_shot)[:, 2],'b', label=\"zero_shot\")\n",
        "plt.plot([10, 15, 20], np.array(few_shot)[:, 2],'r', label=\"few_shot\")\n",
        "plt.plot([10, 15, 20], np.array(cot_shot)[:, 2],'g', label=\"cot\")\n",
        "plt.legend()\n",
        "plt.xlabel('k elements')\n",
        "plt.ylabel('Recall')\n",
        "plt.tight_layout()\n",
        "plt.show()"
      ],
      "metadata": {
        "colab": {
          "base_uri": "https://localhost:8080/",
          "height": 487
        },
        "id": "TMv06BAR9tDd",
        "outputId": "b67a13a6-2a85-49a2-ba08-2ada40bb29ad"
      },
      "execution_count": 29,
      "outputs": [
        {
          "output_type": "display_data",
          "data": {
            "text/plain": [
              "<Figure size 640x480 with 1 Axes>"
            ],
            "image/png": "[encoded data removed]"
          },
          "metadata": {}
        }
      ]
    },
    {
      "cell_type": "markdown",
      "source": [
        "## Novelty"
      ],
      "metadata": {
        "id": "iwPN0bxF96IS"
      }
    },
    {
      "cell_type": "code",
      "source": [
        "plt.figure()\n",
        "plt.plot([10, 15, 20], np.array(zero_shot)[:, 3],'b', label=\"zero_shot\")\n",
        "plt.plot([10, 15, 20], np.array(few_shot)[:, 3],'r', label=\"few_shot\")\n",
        "plt.plot([10, 15, 20], np.array(cot_shot)[:, 3],'g', label=\"cot\")\n",
        "plt.legend()\n",
        "plt.xlabel('k elements')\n",
        "plt.ylabel('Novelty')\n",
        "plt.tight_layout()\n",
        "plt.show()"
      ],
      "metadata": {
        "colab": {
          "base_uri": "https://localhost:8080/",
          "height": 486
        },
        "id": "0DV8sOon9zUd",
        "outputId": "135124fe-bdf3-4836-fc61-c270ee168435"
      },
      "execution_count": 31,
      "outputs": [
        {
          "output_type": "display_data",
          "data": {
            "text/plain": [
              "<Figure size 640x480 with 1 Axes>"
            ],
            "image/png": "[encoded data removed]"
          },
          "metadata": {}
        }
      ]
    },
    {
      "cell_type": "markdown",
      "source": [
        "## Diversity"
      ],
      "metadata": {
        "id": "oBgqeEHr99qK"
      }
    },
    {
      "cell_type": "code",
      "source": [
        "plt.figure()\n",
        "plt.plot([10, 15, 20], np.array(zero_shot)[:, 4],'b', label=\"zero_shot\")\n",
        "plt.plot([10, 15, 20], np.array(few_shot)[:, 4],'r', label=\"few_shot\")\n",
        "plt.plot([10, 15, 20], np.array(cot_shot)[:, 4],'g', label=\"cot\")\n",
        "plt.legend()\n",
        "plt.xlabel('k elements')\n",
        "plt.ylabel('Diversity')\n",
        "plt.tight_layout()\n",
        "plt.show()"
      ],
      "metadata": {
        "colab": {
          "base_uri": "https://localhost:8080/",
          "height": 487
        },
        "id": "9j4cDqjw99S2",
        "outputId": "9d18970a-e08e-4825-bf1d-27aad1e37e85"
      },
      "execution_count": 32,
      "outputs": [
        {
          "output_type": "display_data",
          "data": {
            "text/plain": [
              "<Figure size 640x480 with 1 Axes>"
            ],
            "image/png": "[encoded data removed]"
          },
          "metadata": {}
        }
      ]
    }
  ]
}